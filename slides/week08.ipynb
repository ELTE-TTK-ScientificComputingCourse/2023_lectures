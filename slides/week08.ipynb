{
 "cells": [
  {
   "cell_type": "markdown",
   "id": "8201584a",
   "metadata": {
    "slideshow": {
     "slide_type": "slide"
    }
   },
   "source": [
    "# Mátrixok és vektorok (Matrices and vectors)"
   ]
  },
  {
   "cell_type": "markdown",
   "id": "fb363028",
   "metadata": {
    "slideshow": {
     "slide_type": "subslide"
    }
   },
   "source": [
    "A következőkben a legfontosabb, tudományos számításokra használt könyvtárakat tekintjük át.\n",
    "\n",
    "* numpy\n",
    "* matplotlib\n",
    "* pandas\n",
    "\n",
    "\n",
    "Elsőként a Numpy-al foglakozunk, ami a legalapvetőbb lineáris algebrai könyvtár. Ezek a könyvtárak a hatékonyság miatt elsősorban C/C ++, esetleg Cython-ban implementált függvényekre támaszkodnak, vagyis itt valójában C-szerűen tárolt vektorokról lesz szó, amelyeken lényegében C++ függvények hívódnak meg, mindezt elrejtve a felhasználó elől, Python függvényhívások mögé."
   ]
  },
  {
   "cell_type": "markdown",
   "id": "5d001d79",
   "metadata": {
    "slideshow": {
     "slide_type": "subslide"
    }
   },
   "source": [
    "A numpy nem része a Python standard library-nek, azaz installálni kell. Ha Anaconda csomagkezelőnk van, akkor a numpy már valószínűleg telepítve van, egyébként pedig a Python saját `pip` csomagkezelőjével lehet telepíteni, a \n",
    "\n",
    "```\n",
    "pip install numpy\n",
    "```\n",
    "paranccsal. Megadott verziószámú csomagot is lehet telepíteni, ha szükséges.\n",
    "\n",
    "```\n",
    "pip install numpy==1.26.1\n",
    "```"
   ]
  },
  {
   "cell_type": "code",
   "execution_count": null,
   "id": "d428931c",
   "metadata": {
    "slideshow": {
     "slide_type": "fragment"
    }
   },
   "outputs": [],
   "source": [
    "# A numpy importálására az alábbi konvenciót szokás használni.\n",
    "\n",
    "import numpy as np"
   ]
  },
  {
   "cell_type": "markdown",
   "id": "c34bd50c",
   "metadata": {
    "slideshow": {
     "slide_type": "subslide"
    }
   },
   "source": [
    "A Numpy alapvető adatszerkezete az `ndarray`, ami egy $N$-dimenziós, azonos típusú elemeket tartalmazó, fix méretű tömb.\n",
    "\n",
    "Típus alatt itt elsősorban a C-ből ismert numerikus típusokat értjük, noha lehetséges sztringeket is ilyen tömbbe tenni. Egy Python lista Python objektumokat tartalmaz, amelyek össze-vissza lehetnek a memóriában, ezzel szemben egy C-tömb (kihasználva, hogy minden elemének ugyanaz a típusa) a memóriának egy összefüggő területét foglalja el.\n",
    "\n",
    "```\n",
    "np.float_, np.float32, np.float64, ...\n",
    "np.int_, np.int32, np.int64, ...\n",
    "np.bool_\n",
    "```\n",
    "\n",
    "Itt a hatékonyság kedvéért le kell mondanunk a tetszőleges hosszúságú Python egészekről."
   ]
  },
  {
   "cell_type": "markdown",
   "id": "9ac41184",
   "metadata": {
    "slideshow": {
     "slide_type": "slide"
    }
   },
   "source": [
    "### Egydimenziós tömbök konstruálása"
   ]
  },
  {
   "cell_type": "code",
   "execution_count": null,
   "id": "966281a2",
   "metadata": {
    "slideshow": {
     "slide_type": "subslide"
    }
   },
   "outputs": [],
   "source": [
    "# Tömbök konstruálása\n",
    "\n",
    "v = np.array([1, 1, 2, 3, 5, 8])\n",
    "\n",
    "v"
   ]
  },
  {
   "cell_type": "code",
   "execution_count": null,
   "id": "df0bd47a",
   "metadata": {
    "slideshow": {
     "slide_type": "fragment"
    }
   },
   "outputs": [],
   "source": [
    "v.dtype"
   ]
  },
  {
   "cell_type": "code",
   "execution_count": null,
   "id": "291ae301",
   "metadata": {
    "slideshow": {
     "slide_type": "subslide"
    }
   },
   "outputs": [],
   "source": [
    "v = np.array([1, 1, 2, 3, 5, 8], dtype=np.float_)\n",
    "\n",
    "v"
   ]
  },
  {
   "cell_type": "code",
   "execution_count": null,
   "id": "300c0a55",
   "metadata": {
    "slideshow": {
     "slide_type": "fragment"
    }
   },
   "outputs": [],
   "source": [
    "v.dtype"
   ]
  },
  {
   "cell_type": "code",
   "execution_count": null,
   "id": "12a3f8b0",
   "metadata": {
    "slideshow": {
     "slide_type": "fragment"
    }
   },
   "outputs": [],
   "source": [
    "len(v)"
   ]
  },
  {
   "cell_type": "code",
   "execution_count": null,
   "id": "df70f381",
   "metadata": {
    "slideshow": {
     "slide_type": "fragment"
    }
   },
   "outputs": [],
   "source": [
    "v.shape"
   ]
  },
  {
   "cell_type": "code",
   "execution_count": null,
   "id": "9a0a9062",
   "metadata": {
    "slideshow": {
     "slide_type": "subslide"
    }
   },
   "outputs": [],
   "source": [
    "# logikai tömb / boolean array\n",
    "\n",
    "v = np.array([0, 1, 0, 0, 1], dtype=np.bool_)\n",
    "\n",
    "v"
   ]
  },
  {
   "cell_type": "code",
   "execution_count": null,
   "id": "301eb6a8",
   "metadata": {
    "slideshow": {
     "slide_type": "subslide"
    }
   },
   "outputs": [],
   "source": [
    "# Explicit type cast\n",
    "\n",
    "v = np.array([0, 1, 0, 0, 1], dtype=np.int_)\n",
    "\n",
    "print(repr(v.astype(np.bool_)))\n",
    "\n",
    "print(repr(v.astype(\"float32\")))"
   ]
  },
  {
   "cell_type": "markdown",
   "id": "f0915754",
   "metadata": {
    "slideshow": {
     "slide_type": "slide"
    }
   },
   "source": [
    "### Többdimenziós tömbök konstruálása"
   ]
  },
  {
   "cell_type": "code",
   "execution_count": null,
   "id": "9c25d9a8",
   "metadata": {
    "slideshow": {
     "slide_type": "subslide"
    }
   },
   "outputs": [],
   "source": [
    "# az elemeket listák listájaként adhatjuk meg\n",
    "\n",
    "matrix = np.array([[1, 2, 3], [4, 5, 6]])\n",
    "\n",
    "matrix"
   ]
  },
  {
   "cell_type": "code",
   "execution_count": null,
   "id": "5523d522",
   "metadata": {
    "slideshow": {
     "slide_type": "fragment"
    }
   },
   "outputs": [],
   "source": [
    "matrix.ndim"
   ]
  },
  {
   "cell_type": "code",
   "execution_count": null,
   "id": "6edbc526",
   "metadata": {
    "slideshow": {
     "slide_type": "fragment"
    }
   },
   "outputs": [],
   "source": [
    "matrix.shape"
   ]
  },
  {
   "cell_type": "code",
   "execution_count": null,
   "id": "7d3c7532",
   "metadata": {
    "slideshow": {
     "slide_type": "subslide"
    }
   },
   "outputs": [],
   "source": [
    "# Speciális mátrix konstrukciók\n",
    "\n",
    "A = np.zeros(shape=(3, 3), dtype=np.int_)\n",
    "\n",
    "A"
   ]
  },
  {
   "cell_type": "code",
   "execution_count": null,
   "id": "4934538e",
   "metadata": {
    "slideshow": {
     "slide_type": "subslide"
    }
   },
   "outputs": [],
   "source": [
    "B = np.ones(shape=(3, 5), dtype=np.float_)\n",
    "\n",
    "B"
   ]
  },
  {
   "cell_type": "code",
   "execution_count": null,
   "id": "84286244",
   "metadata": {
    "slideshow": {
     "slide_type": "subslide"
    }
   },
   "outputs": [],
   "source": [
    "I = np.eye(4)\n",
    "\n",
    "I"
   ]
  },
  {
   "cell_type": "code",
   "execution_count": null,
   "id": "b5613009",
   "metadata": {
    "slideshow": {
     "slide_type": "subslide"
    }
   },
   "outputs": [],
   "source": [
    "I = np.eye(4, 5, k=2, dtype=np.int_)\n",
    "\n",
    "I"
   ]
  },
  {
   "cell_type": "code",
   "execution_count": null,
   "id": "9acc0e82",
   "metadata": {
    "slideshow": {
     "slide_type": "subslide"
    }
   },
   "outputs": [],
   "source": [
    "# array range\n",
    "\n",
    "np.arange(10)"
   ]
  },
  {
   "cell_type": "code",
   "execution_count": null,
   "id": "95fe133e",
   "metadata": {
    "slideshow": {
     "slide_type": "fragment"
    }
   },
   "outputs": [],
   "source": [
    "np.linspace(0, 1, 11)"
   ]
  },
  {
   "cell_type": "code",
   "execution_count": null,
   "id": "3d55ce58",
   "metadata": {
    "slideshow": {
     "slide_type": "fragment"
    }
   },
   "outputs": [],
   "source": [
    "v = np.array([1, 2, 4, 9, -1], dtype=np.float32)\n",
    "\n",
    "z = np.zeros_like(v)\n",
    "z"
   ]
  },
  {
   "cell_type": "code",
   "execution_count": null,
   "id": "ade85dca",
   "metadata": {
    "slideshow": {
     "slide_type": "slide"
    }
   },
   "outputs": [],
   "source": [
    "A = np.array([[1, 2, 3], [4, 5, 6]])"
   ]
  },
  {
   "cell_type": "code",
   "execution_count": null,
   "id": "24b4452f",
   "metadata": {
    "slideshow": {
     "slide_type": "fragment"
    }
   },
   "outputs": [],
   "source": [
    "2 * A"
   ]
  },
  {
   "cell_type": "code",
   "execution_count": null,
   "id": "cd637582",
   "metadata": {
    "slideshow": {
     "slide_type": "fragment"
    }
   },
   "outputs": [],
   "source": [
    "2.0 * A"
   ]
  },
  {
   "cell_type": "code",
   "execution_count": null,
   "id": "e7d0ff21",
   "metadata": {
    "slideshow": {
     "slide_type": "fragment"
    }
   },
   "outputs": [],
   "source": [
    "-A"
   ]
  },
  {
   "cell_type": "code",
   "execution_count": null,
   "id": "57c0ddf5",
   "metadata": {
    "slideshow": {
     "slide_type": "subslide"
    }
   },
   "outputs": [],
   "source": [
    "# elemenkénti összeadás\n",
    "\n",
    "np.add(A, A)"
   ]
  },
  {
   "cell_type": "code",
   "execution_count": null,
   "id": "b69dac2e",
   "metadata": {
    "slideshow": {
     "slide_type": "fragment"
    }
   },
   "outputs": [],
   "source": [
    "A + A"
   ]
  },
  {
   "cell_type": "code",
   "execution_count": null,
   "id": "62285ace",
   "metadata": {
    "slideshow": {
     "slide_type": "subslide"
    }
   },
   "outputs": [],
   "source": [
    "# elemenkénti szorzás\n",
    "\n",
    "np.multiply(A, A)"
   ]
  },
  {
   "cell_type": "code",
   "execution_count": null,
   "id": "016cc5a8",
   "metadata": {
    "slideshow": {
     "slide_type": "fragment"
    }
   },
   "outputs": [],
   "source": [
    "A * A"
   ]
  },
  {
   "cell_type": "code",
   "execution_count": null,
   "id": "f50e3fd6",
   "metadata": {
    "slideshow": {
     "slide_type": "slide"
    }
   },
   "outputs": [],
   "source": [
    "B = 2 * np.ones_like(A)\n",
    "\n",
    "B"
   ]
  },
  {
   "cell_type": "code",
   "execution_count": null,
   "id": "b062e26f",
   "metadata": {
    "slideshow": {
     "slide_type": "fragment"
    }
   },
   "outputs": [],
   "source": [
    "# elemenkénti osztás\n",
    "\n",
    "np.divide(A, B)"
   ]
  },
  {
   "cell_type": "code",
   "execution_count": null,
   "id": "6a728784",
   "metadata": {
    "slideshow": {
     "slide_type": "fragment"
    }
   },
   "outputs": [],
   "source": [
    "A / B"
   ]
  },
  {
   "cell_type": "code",
   "execution_count": null,
   "id": "fb22f23c",
   "metadata": {
    "slideshow": {
     "slide_type": "subslide"
    }
   },
   "outputs": [],
   "source": [
    "b = np.array([1, 2, 3])\n",
    "\n",
    "\n",
    "print(A.shape)\n",
    "print(b.shape)"
   ]
  },
  {
   "cell_type": "code",
   "execution_count": null,
   "id": "18ee7912",
   "metadata": {
    "slideshow": {
     "slide_type": "subslide"
    }
   },
   "outputs": [],
   "source": [
    "# Mátrix-vektor szorzás\n",
    "\n",
    "np.matmul(A, b)"
   ]
  },
  {
   "cell_type": "code",
   "execution_count": null,
   "id": "ce4e081d",
   "metadata": {
    "slideshow": {
     "slide_type": "subslide"
    }
   },
   "outputs": [],
   "source": [
    "A @ b"
   ]
  },
  {
   "cell_type": "markdown",
   "id": "ee6048e3",
   "metadata": {
    "slideshow": {
     "slide_type": "subslide"
    }
   },
   "source": [
    "Különböző dimenziójú mátrixokkal való műveletek esetén legyünk óvatosak, győződjünk meg arról, hogy az történik, amit szeretnénk."
   ]
  },
  {
   "cell_type": "code",
   "execution_count": null,
   "id": "c0cb63df",
   "metadata": {
    "slideshow": {
     "slide_type": "fragment"
    }
   },
   "outputs": [],
   "source": [
    "# Igazából ez lenne a helyes mátrixszorzás, megfelelő dimenziószámmal\n",
    "A\n",
    "\n",
    "b = np.expand_dims(np.array([1, 2, 3]), 1)\n",
    "\n",
    "b"
   ]
  },
  {
   "cell_type": "code",
   "execution_count": null,
   "id": "563740d6",
   "metadata": {
    "slideshow": {
     "slide_type": "fragment"
    }
   },
   "outputs": [],
   "source": [
    "C = np.matmul(A, b)\n",
    "\n",
    "print(C.shape)\n",
    "C"
   ]
  },
  {
   "cell_type": "code",
   "execution_count": null,
   "id": "b12093e0",
   "metadata": {
    "slideshow": {
     "slide_type": "subslide"
    }
   },
   "outputs": [],
   "source": [
    "A"
   ]
  },
  {
   "cell_type": "code",
   "execution_count": null,
   "id": "3659d10e",
   "metadata": {
    "slideshow": {
     "slide_type": "fragment"
    }
   },
   "outputs": [],
   "source": [
    "b = np.array([1, 2, 3])\n",
    "\n",
    "b"
   ]
  },
  {
   "cell_type": "code",
   "execution_count": null,
   "id": "c063a48f",
   "metadata": {
    "slideshow": {
     "slide_type": "fragment"
    }
   },
   "outputs": [],
   "source": [
    "A / b"
   ]
  },
  {
   "cell_type": "code",
   "execution_count": null,
   "id": "58843cab",
   "metadata": {
    "slideshow": {
     "slide_type": "fragment"
    }
   },
   "outputs": [],
   "source": [
    "A * b"
   ]
  },
  {
   "cell_type": "markdown",
   "id": "df1196d2",
   "metadata": {
    "slideshow": {
     "slide_type": "subslide"
    }
   },
   "source": [
    "A fenti két művelet elementkénti osztás és szorzás, és azért tud végrehajtódni, mert a $b$-ből két példányt véve le tudjuk fedni az $A$ dimenzióját, azaz a $b$ vektor automatikusan kiegészítődőtt saját maga másolatával úgy, hogy a mérete megegyezzen az $A$ méretével (**broadcasting**). A $b = [1, 2, 3]$, egydimenziós $(3,)$ méretű vektorból implicit módon egy $(1, 3)$-mas, ebből pedig egy kétdimenziós, $(2, 3)$-as tömb lett."
   ]
  },
  {
   "cell_type": "code",
   "execution_count": null,
   "id": "4f6cb94e",
   "metadata": {
    "slideshow": {
     "slide_type": "fragment"
    }
   },
   "outputs": [],
   "source": [
    "v = np.array([[1], [11]])\n",
    "\n",
    "w = np.array([1, 2, 3, 4, 5, 6])\n",
    "\n",
    "print(v.shape)\n",
    "print(w.shape)\n",
    "\n",
    "w + v"
   ]
  },
  {
   "cell_type": "markdown",
   "id": "f7fedaba",
   "metadata": {
    "slideshow": {
     "slide_type": "slide"
    }
   },
   "source": [
    "### Indexelés (indexing)"
   ]
  },
  {
   "cell_type": "code",
   "execution_count": null,
   "id": "4a12c0d0",
   "metadata": {
    "slideshow": {
     "slide_type": "slide"
    }
   },
   "outputs": [],
   "source": [
    "A = np.array([[1, 2, 3, 4, 5], [10, 20, 30, 40, 50], [9, 8, 7, 6, 5], [1, 0, 1, 0, 1]])\n",
    "\n",
    "A"
   ]
  },
  {
   "cell_type": "code",
   "execution_count": null,
   "id": "e56c529b",
   "metadata": {
    "slideshow": {
     "slide_type": "fragment"
    }
   },
   "outputs": [],
   "source": [
    "A[1]"
   ]
  },
  {
   "cell_type": "code",
   "execution_count": null,
   "id": "bd67db69",
   "metadata": {
    "slideshow": {
     "slide_type": "fragment"
    }
   },
   "outputs": [],
   "source": [
    "A[1][2]"
   ]
  },
  {
   "cell_type": "code",
   "execution_count": null,
   "id": "388e0394",
   "metadata": {
    "slideshow": {
     "slide_type": "subslide"
    }
   },
   "outputs": [],
   "source": [
    "A[1, 2]"
   ]
  },
  {
   "cell_type": "code",
   "execution_count": null,
   "id": "7385fa4c",
   "metadata": {
    "slideshow": {
     "slide_type": "fragment"
    }
   },
   "outputs": [],
   "source": [
    "A[:2, 1:4]"
   ]
  },
  {
   "cell_type": "code",
   "execution_count": null,
   "id": "daf48da5",
   "metadata": {
    "slideshow": {
     "slide_type": "fragment"
    }
   },
   "outputs": [],
   "source": [
    "A[:2, :]"
   ]
  },
  {
   "cell_type": "code",
   "execution_count": null,
   "id": "dd2765af",
   "metadata": {
    "slideshow": {
     "slide_type": "subslide"
    }
   },
   "outputs": [],
   "source": [
    "A[0, 0:3] = -1\n",
    "\n",
    "A"
   ]
  },
  {
   "cell_type": "code",
   "execution_count": null,
   "id": "8b86e0b2",
   "metadata": {
    "slideshow": {
     "slide_type": "subslide"
    }
   },
   "outputs": [],
   "source": [
    "A <= 0"
   ]
  },
  {
   "cell_type": "code",
   "execution_count": null,
   "id": "5767d720",
   "metadata": {
    "slideshow": {
     "slide_type": "fragment"
    }
   },
   "outputs": [],
   "source": [
    "A[A<=0] = 100\n",
    "\n",
    "A"
   ]
  },
  {
   "cell_type": "code",
   "execution_count": null,
   "id": "5068f48c",
   "metadata": {
    "slideshow": {
     "slide_type": "subslide"
    }
   },
   "outputs": [],
   "source": [
    "np.where(A == 100, 0, 1)"
   ]
  },
  {
   "cell_type": "code",
   "execution_count": null,
   "id": "d492e943",
   "metadata": {
    "slideshow": {
     "slide_type": "fragment"
    }
   },
   "outputs": [],
   "source": [
    "np.where(A == 100, 0, A)"
   ]
  },
  {
   "cell_type": "code",
   "execution_count": null,
   "id": "876054b3",
   "metadata": {
    "slideshow": {
     "slide_type": "subslide"
    }
   },
   "outputs": [],
   "source": [
    "A[[1, 3]]"
   ]
  },
  {
   "cell_type": "code",
   "execution_count": null,
   "id": "532e7dd1",
   "metadata": {
    "slideshow": {
     "slide_type": "fragment"
    }
   },
   "outputs": [],
   "source": [
    "A[:, [1, 3]]"
   ]
  },
  {
   "cell_type": "code",
   "execution_count": null,
   "id": "e60ae37d",
   "metadata": {
    "slideshow": {
     "slide_type": "fragment"
    }
   },
   "outputs": [],
   "source": [
    "A[:, [4, 2, 0]]"
   ]
  },
  {
   "cell_type": "markdown",
   "id": "4895e9db",
   "metadata": {
    "slideshow": {
     "slide_type": "slide"
    }
   },
   "source": [
    "### Vektorizált elemenkénti függvények (Vectorized element-wise functions)"
   ]
  },
  {
   "cell_type": "code",
   "execution_count": null,
   "id": "8708d40e",
   "metadata": {
    "slideshow": {
     "slide_type": "subslide"
    }
   },
   "outputs": [],
   "source": [
    "v = np.arange(5)\n",
    "\n",
    "v"
   ]
  },
  {
   "cell_type": "code",
   "execution_count": null,
   "id": "6ede9d35",
   "metadata": {
    "slideshow": {
     "slide_type": "fragment"
    }
   },
   "outputs": [],
   "source": [
    "np.square(v)"
   ]
  },
  {
   "cell_type": "code",
   "execution_count": null,
   "id": "dbb34492",
   "metadata": {
    "slideshow": {
     "slide_type": "fragment"
    }
   },
   "outputs": [],
   "source": [
    "np.sum(v)"
   ]
  },
  {
   "cell_type": "code",
   "execution_count": null,
   "id": "57962e41",
   "metadata": {
    "slideshow": {
     "slide_type": "subslide"
    }
   },
   "outputs": [],
   "source": [
    "import random\n",
    "import time\n",
    "\n",
    "random.seed(123)\n",
    "\n",
    "lst = [random.randint(-1000, 1000) for _ in range(1_000_000)]"
   ]
  },
  {
   "cell_type": "code",
   "execution_count": null,
   "id": "e2e643f9",
   "metadata": {
    "slideshow": {
     "slide_type": "subslide"
    }
   },
   "outputs": [],
   "source": [
    "t = time.time()\n",
    "for _ in range(100):\n",
    "    s = sum(lst)\n",
    "    \n",
    "print(time.time() - t)\n",
    "print(s)"
   ]
  },
  {
   "cell_type": "code",
   "execution_count": null,
   "id": "138bf1dd",
   "metadata": {
    "slideshow": {
     "slide_type": "fragment"
    }
   },
   "outputs": [],
   "source": [
    "v = np.array(lst, dtype=np.int32)\n",
    "\n",
    "t = time.time()\n",
    "for _ in range(100):\n",
    "    s = np.sum(v)\n",
    "    \n",
    "print(time.time() - t)\n",
    "print(s)"
   ]
  },
  {
   "cell_type": "code",
   "execution_count": null,
   "id": "c4a574db",
   "metadata": {
    "slideshow": {
     "slide_type": "subslide"
    }
   },
   "outputs": [],
   "source": [
    "v = np.arange(30)\n",
    "\n",
    "A = np.reshape(v, (5, 6))    # vagy v.reshape(5, 6)\n",
    "\n",
    "A"
   ]
  },
  {
   "cell_type": "code",
   "execution_count": null,
   "id": "a2efe30c",
   "metadata": {
    "slideshow": {
     "slide_type": "subslide"
    }
   },
   "outputs": [],
   "source": [
    "# A.sum()\n",
    "\n",
    "np.sum(A)"
   ]
  },
  {
   "cell_type": "code",
   "execution_count": null,
   "id": "231089e9",
   "metadata": {
    "slideshow": {
     "slide_type": "fragment"
    }
   },
   "outputs": [],
   "source": [
    "# A.sum(axis=0)\n",
    "\n",
    "np.sum(A, axis=0)"
   ]
  },
  {
   "cell_type": "code",
   "execution_count": null,
   "id": "fcfb3422",
   "metadata": {
    "slideshow": {
     "slide_type": "fragment"
    }
   },
   "outputs": [],
   "source": [
    "np.sum(A, axis=1)"
   ]
  },
  {
   "cell_type": "code",
   "execution_count": null,
   "id": "3c3f41a2",
   "metadata": {
    "slideshow": {
     "slide_type": "subslide"
    }
   },
   "outputs": [],
   "source": [
    "np.sin(A)"
   ]
  },
  {
   "cell_type": "code",
   "execution_count": null,
   "id": "174f37cf",
   "metadata": {
    "slideshow": {
     "slide_type": "fragment"
    }
   },
   "outputs": [],
   "source": [
    "np.exp(A)"
   ]
  },
  {
   "cell_type": "code",
   "execution_count": null,
   "id": "526bdeb1",
   "metadata": {
    "slideshow": {
     "slide_type": "subslide"
    }
   },
   "outputs": [],
   "source": [
    "np.log(A)"
   ]
  },
  {
   "cell_type": "code",
   "execution_count": null,
   "id": "ba45e6f5",
   "metadata": {
    "slideshow": {
     "slide_type": "subslide"
    }
   },
   "outputs": [],
   "source": [
    "A = np.arange(15).reshape(3, 5)\n",
    "\n",
    "B = np.zeros(shape=(3, 5), dtype=np.int_)"
   ]
  },
  {
   "cell_type": "code",
   "execution_count": null,
   "id": "ca2047cc",
   "metadata": {
    "slideshow": {
     "slide_type": "subslide"
    }
   },
   "outputs": [],
   "source": [
    "# np.vstack((A, B))\n",
    "\n",
    "np.concatenate((A, B), axis=0)"
   ]
  },
  {
   "cell_type": "code",
   "execution_count": null,
   "id": "095e58e0",
   "metadata": {
    "slideshow": {
     "slide_type": "subslide"
    }
   },
   "outputs": [],
   "source": [
    "# np.hstack((A, B))\n",
    "\n",
    "np.concatenate((A, B), axis=1)"
   ]
  },
  {
   "cell_type": "markdown",
   "id": "f7517666",
   "metadata": {
    "slideshow": {
     "slide_type": "slide"
    }
   },
   "source": [
    "# Lineáris algebra és alkalmazásai (Linear algebra and its applications)"
   ]
  },
  {
   "cell_type": "markdown",
   "id": "55ebb98f",
   "metadata": {
    "slideshow": {
     "slide_type": "subslide"
    }
   },
   "source": [
    "### Egyszerűbb statisztikai függvények"
   ]
  },
  {
   "cell_type": "markdown",
   "id": "4410e75d",
   "metadata": {
    "slideshow": {
     "slide_type": "subslide"
    }
   },
   "source": [
    "$$\n",
    "\\overline v \\equiv \\text{mean}(v) = \\frac{\\sum_{i=1}^n v_i}{n}\n",
    "$$\n",
    "\n",
    "\n",
    "$$\n",
    "\\text{std}(v) = \\sqrt{\\frac{\\sum_{i=1}^n (v_i - \\overline{v})^2}{n}}\n",
    "$$"
   ]
  },
  {
   "cell_type": "code",
   "execution_count": null,
   "id": "c63540ec",
   "metadata": {
    "slideshow": {
     "slide_type": "subslide"
    }
   },
   "outputs": [],
   "source": [
    "A = np.array([\n",
    "    [1, 2, 3],\n",
    "    [10, 11, 12],\n",
    "    [0, 3, 1],\n",
    "    [10, -5, 1]\n",
    "])\n",
    "\n",
    "A"
   ]
  },
  {
   "cell_type": "code",
   "execution_count": null,
   "id": "40b46803",
   "metadata": {
    "slideshow": {
     "slide_type": "fragment"
    }
   },
   "outputs": [],
   "source": [
    "# A.sum()\n",
    "\n",
    "np.sum(A)"
   ]
  },
  {
   "cell_type": "code",
   "execution_count": null,
   "id": "4946a4d4",
   "metadata": {
    "slideshow": {
     "slide_type": "fragment"
    }
   },
   "outputs": [],
   "source": [
    "# Elemek abszolútértékeinek összege\n",
    "\n",
    "np.sum(np.abs(A))"
   ]
  },
  {
   "cell_type": "code",
   "execution_count": null,
   "id": "05017246",
   "metadata": {
    "slideshow": {
     "slide_type": "subslide"
    }
   },
   "outputs": [],
   "source": [
    "# elemek átlaga\n",
    "\n",
    "np.mean(A)"
   ]
  },
  {
   "cell_type": "code",
   "execution_count": null,
   "id": "83667f61",
   "metadata": {
    "slideshow": {
     "slide_type": "fragment"
    }
   },
   "outputs": [],
   "source": [
    "# elemek szórása\n",
    "\n",
    "np.std(A)"
   ]
  },
  {
   "cell_type": "code",
   "execution_count": null,
   "id": "b3a25f27",
   "metadata": {
    "slideshow": {
     "slide_type": "fragment"
    }
   },
   "outputs": [],
   "source": [
    "# elemek szórásnégyzete\n",
    "\n",
    "np.var(A)"
   ]
  },
  {
   "cell_type": "markdown",
   "id": "aa2dd869",
   "metadata": {
    "slideshow": {
     "slide_type": "subslide"
    }
   },
   "source": [
    "Többdimenziós tömböknél azonban érdekelhet minket a sorösszeg / oszlopösszeg, a sorátlag / oszlopátlag, stb. is."
   ]
  },
  {
   "cell_type": "code",
   "execution_count": null,
   "id": "9f5e6226",
   "metadata": {
    "slideshow": {
     "slide_type": "fragment"
    }
   },
   "outputs": [],
   "source": [
    "print(A.shape)\n",
    "\n",
    "# ez tehát az oszlopösszeg\n",
    "np.sum(A, axis=0)"
   ]
  },
  {
   "cell_type": "code",
   "execution_count": null,
   "id": "d3d65b19",
   "metadata": {
    "slideshow": {
     "slide_type": "fragment"
    }
   },
   "outputs": [],
   "source": [
    "print(np.sum(A[1, :]))\n",
    "\n",
    "# ez a sorösszeg\n",
    "np.sum(A, axis=1)"
   ]
  },
  {
   "cell_type": "code",
   "execution_count": null,
   "id": "3af3be47",
   "metadata": {
    "slideshow": {
     "slide_type": "subslide"
    }
   },
   "outputs": [],
   "source": [
    "# A keletkező vektor egyik dimenziója azonban eltűnt, a sorösszeg egy 1-dimenziós vektor lett\n",
    "\n",
    "row_sums = np.sum(A, axis=1, keepdims=True)\n",
    "\n",
    "print(row_sums.shape)\n",
    "\n",
    "row_sums"
   ]
  },
  {
   "cell_type": "code",
   "execution_count": null,
   "id": "ac05e719",
   "metadata": {
    "slideshow": {
     "slide_type": "subslide"
    }
   },
   "outputs": [],
   "source": [
    "# Hasonlóan, oszlopátlagot is számolhatunk\n",
    "\n",
    "np.mean(A, axis=0)"
   ]
  },
  {
   "cell_type": "code",
   "execution_count": null,
   "id": "da6e0968",
   "metadata": {
    "slideshow": {
     "slide_type": "subslide"
    }
   },
   "outputs": [],
   "source": [
    "A"
   ]
  },
  {
   "cell_type": "code",
   "execution_count": null,
   "id": "0590d8ca",
   "metadata": {
    "slideshow": {
     "slide_type": "fragment"
    }
   },
   "outputs": [],
   "source": [
    "# melyik tengely mentén rendez a `sort`, ha nem adunk meg semmit?\n",
    "\n",
    "np.sort(A)"
   ]
  },
  {
   "cell_type": "code",
   "execution_count": null,
   "id": "be037f40",
   "metadata": {
    "slideshow": {
     "slide_type": "fragment"
    }
   },
   "outputs": [],
   "source": [
    "np.sort(A, axis=0)"
   ]
  },
  {
   "cell_type": "code",
   "execution_count": null,
   "id": "eaa9aac2",
   "metadata": {
    "slideshow": {
     "slide_type": "subslide"
    }
   },
   "outputs": [],
   "source": [
    "help(np.sort)"
   ]
  },
  {
   "cell_type": "code",
   "execution_count": null,
   "id": "ee0d356e",
   "metadata": {
    "slideshow": {
     "slide_type": "slide"
    }
   },
   "outputs": [],
   "source": [
    "import numpy.linalg as lg"
   ]
  },
  {
   "cell_type": "code",
   "execution_count": null,
   "id": "f0026f20",
   "metadata": {
    "slideshow": {
     "slide_type": "fragment"
    }
   },
   "outputs": [],
   "source": [
    "A = np.array([[2, 4, 1], [2, 6, -1], [1, 5, 2]], dtype=np.float_)\n",
    "\n",
    "b = np.array([4, 10, 2])"
   ]
  },
  {
   "cell_type": "code",
   "execution_count": null,
   "id": "d3d115c4",
   "metadata": {
    "slideshow": {
     "slide_type": "fragment"
    }
   },
   "outputs": [],
   "source": [
    "print(f\"Az A mátrix determinánsa {np.round(lg.det(A), 6)}\")"
   ]
  },
  {
   "cell_type": "code",
   "execution_count": null,
   "id": "f6b6c036",
   "metadata": {
    "slideshow": {
     "slide_type": "subslide"
    }
   },
   "outputs": [],
   "source": [
    "# Az A mátrix inverze\n",
    "\n",
    "lg.inv(A)"
   ]
  },
  {
   "cell_type": "code",
   "execution_count": null,
   "id": "2a5d9536",
   "metadata": {
    "slideshow": {
     "slide_type": "subslide"
    }
   },
   "outputs": [],
   "source": [
    "# Az Ax = b lineáris egyenletrendszer megoldása:\n",
    "\n",
    "x = lg.solve(A, b)\n",
    "\n",
    "x"
   ]
  },
  {
   "cell_type": "code",
   "execution_count": null,
   "id": "441627b4",
   "metadata": {
    "slideshow": {
     "slide_type": "fragment"
    }
   },
   "outputs": [],
   "source": [
    "A @ x"
   ]
  },
  {
   "cell_type": "markdown",
   "id": "8748c32b",
   "metadata": {
    "slideshow": {
     "slide_type": "slide"
    }
   },
   "source": [
    "**Feladat**: Adott két numpy vektor, `a = np.array([1,2,3,2,3,4,3,4,5,6])` és `b = np.array([7,2,10,2,7,4,9,4,9,8])`, állítsuk elő azt a vektort, ami a közös elemeket tartalmazza. (Keressünk numpy függvényeket erre a célra.)\n",
    "\n",
    "\n",
    "**Feladat**: Csináljuk egy $3\\times 3$-mas mátrixot, ami $2$ és $4$ közötti véletlen számokat tartalmaz. (Nézzük meg az `np.random` modul függvényeit.)\n",
    "\n",
    "**Feladat**: Az alábbi mátrix tartalmaz végtelen értékeket is. Töröljük azokat az oszlopokat, amelyekben szerepel végtelen érték. Hogyan kaphatjuk meg azon oszlopok indexeit, amely tartalmaz végtelen értéket?\n",
    "\n",
    "```python\n",
    "A = np.array([\n",
    "    [1,      2,       3, 14], \n",
    "    [2, np.inf,      -4,  0], \n",
    "    [3,      4, -np.inf, -3]\n",
    "])\n",
    "```\n",
    "\n",
    "**Feladat**: Adott mátrixra számoljuk ki minden sorra a sorbeli minimum és maximum értékek hányadosát."
   ]
  },
  {
   "cell_type": "markdown",
   "id": "d6cbafe9",
   "metadata": {
    "slideshow": {
     "slide_type": "slide"
    }
   },
   "source": [
    "# Tömbök egyszerű vizualizációja (Visualization)"
   ]
  },
  {
   "cell_type": "markdown",
   "id": "55a08fea",
   "metadata": {
    "slideshow": {
     "slide_type": "subslide"
    }
   },
   "source": [
    "Mátrixok és vektorok a matematika minden ágában előfordulnak, valamint rengeteg alkalmazásuk van:\n",
    "\n",
    "* képfeldolgozás\n",
    "    * képtömörítés, szűrés (blurring, sharpening, etc)\n",
    "    * objektum detekció \n",
    "    * szegmentáció\n",
    "* jelfeldolgozás, idősorok elemzése \n",
    "    * tőzsdei árfolyamok\n",
    "    * vízszintingadozás\n",
    "    * elektrofiziológiai jelek elemzése\n",
    "    * egérmozgás alapján felhasználó azonosítása\n",
    "    * szállodai szobák kihasználtsága\n",
    "    * trendek, szezonalitás vizsgálata\n",
    "\n",
    "Ez a lista lényegében a végtelenségig folytatható."
   ]
  },
  {
   "cell_type": "markdown",
   "id": "ac118828",
   "metadata": {
    "slideshow": {
     "slide_type": "subslide"
    }
   },
   "source": [
    "Azonban akár képekkel, akár idősorokkal dolgozunk, nehéz tájékozódni vizuális segítség nélkül. A Python leggyakrabban használt plot-könyvtára a `matplotlib`, ugyanakkor más, vizuális ábárzolásra használt könyvtár is létezik (a legismertebb alternatívák a `seaborn` vagy a `bokeh`)."
   ]
  },
  {
   "cell_type": "code",
   "execution_count": null,
   "id": "dde01ca9",
   "metadata": {
    "slideshow": {
     "slide_type": "subslide"
    }
   },
   "outputs": [],
   "source": [
    "import matplotlib.image as im\n",
    "import matplotlib.pyplot as plt"
   ]
  },
  {
   "cell_type": "code",
   "execution_count": null,
   "id": "08f7722d",
   "metadata": {
    "slideshow": {
     "slide_type": "subslide"
    }
   },
   "outputs": [],
   "source": [
    "plt.figure(figsize=(16, 4))\n",
    "xs = np.linspace(0, 2*np.pi, 100)\n",
    "ys = np.sin(xs)\n",
    "plt.plot(xs, ys)\n",
    "plt.title(\"The sine function\")\n",
    "plt.show()"
   ]
  },
  {
   "cell_type": "code",
   "execution_count": null,
   "id": "f5b10165",
   "metadata": {
    "slideshow": {
     "slide_type": "subslide"
    }
   },
   "outputs": [],
   "source": [
    "plt.figure(figsize=(16, 4))\n",
    "xs = np.linspace(0, 2*np.pi, 100)\n",
    "ys = np.sin(xs)\n",
    "plt.plot(xs, ys)\n",
    "plt.yticks([-1, -0.5, 0, 0.5, 1.0])\n",
    "plt.title(\"The sine function\")\n",
    "plt.show()"
   ]
  },
  {
   "cell_type": "code",
   "execution_count": null,
   "id": "4691b0be",
   "metadata": {
    "slideshow": {
     "slide_type": "subslide"
    }
   },
   "outputs": [],
   "source": [
    "fig, ax = plt.subplots(nrows=3, ncols=1, figsize=(18, 6))\n",
    "xs = np.linspace(0, 2*np.pi, 100)\n",
    "ax[0].plot(xs, np.sin(xs))\n",
    "ax[1].plot(xs, np.sin(2*xs))\n",
    "ax[2].plot(xs, np.sin(4*xs))\n",
    "plt.show()"
   ]
  },
  {
   "cell_type": "code",
   "execution_count": null,
   "id": "125cbe14",
   "metadata": {
    "slideshow": {
     "slide_type": "subslide"
    }
   },
   "outputs": [],
   "source": [
    "fig, ax = plt.subplots(nrows=3, ncols=1, figsize=(18, 6), sharex=True)\n",
    "xs = np.linspace(0, 2*np.pi, 100)\n",
    "ax[0].plot(xs, np.sin(xs), label=\"sin(x)\")\n",
    "ax[0].legend(loc=\"upper right\")\n",
    "ax[1].plot(xs, np.sin(2*xs), c=\"g\", label=\"sin(2x)\")\n",
    "ax[1].legend(loc=\"upper right\")\n",
    "ax[2].plot(xs, np.sin(4*xs), c=\"r\", label=\"sin(4x)\")\n",
    "ax[2].legend(loc=\"upper right\")\n",
    "plt.show()"
   ]
  }
 ],
 "metadata": {
  "celltoolbar": "Slideshow",
  "kernelspec": {
   "display_name": "Python 3 (ipykernel)",
   "language": "python",
   "name": "python3"
  },
  "language_info": {
   "codemirror_mode": {
    "name": "ipython",
    "version": 3
   },
   "file_extension": ".py",
   "mimetype": "text/x-python",
   "name": "python",
   "nbconvert_exporter": "python",
   "pygments_lexer": "ipython3",
   "version": "3.10.12"
  }
 },
 "nbformat": 4,
 "nbformat_minor": 5
}
