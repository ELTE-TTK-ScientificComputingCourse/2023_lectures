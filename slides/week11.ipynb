{
 "cells": [
  {
   "cell_type": "markdown",
   "id": "cc4d29c7",
   "metadata": {
    "slideshow": {
     "slide_type": "slide"
    }
   },
   "source": [
    "# Problémamegoldás II. (Problem solving - part 2)"
   ]
  },
  {
   "cell_type": "markdown",
   "id": "cbe356b8",
   "metadata": {
    "slideshow": {
     "slide_type": "subslide"
    }
   },
   "source": [
    "## Pénzváltás (coin change)"
   ]
  },
  {
   "cell_type": "markdown",
   "id": "293be8d0",
   "metadata": {
    "slideshow": {
     "slide_type": "subslide"
    }
   },
   "source": [
    "**Feladat**: Hányféleképpen lehet felváltani 500 Ft-ot aprópénzre? Jelenleg $5, 10, 20, 50, 100$ és $200$ Ft-os pénzérmék vannak forgalomban. Hányféleképpen lehet felváltani egy ötezrest?\n",
    "\n",
    "A feladat egy átfogalmazása a 31. számú [ProjectEuler](https://projecteuler.net/problem=31) problémának."
   ]
  },
  {
   "cell_type": "markdown",
   "id": "627da6ca",
   "metadata": {
    "slideshow": {
     "slide_type": "fragment"
    }
   },
   "source": [
    "Példa:\n",
    "    \n",
    "5 Ft-ot egyféleképpen lehet felváltani: (5,).\n",
    "\n",
    "20 Ft-ot 4-féleképpen: (20,), (10, 10), (10, 5, 5), (5, 5, 5, 5)\n",
    "\n",
    "40 Ft-ot 9-féleképpen: (20, 20), (20, 10, 10), (20, 10, 5, 5), (20, 5, 5, 5, 5), (10, 10, 10, 10), (10, 10, 10, 5, 5), (10, 10, 5, 5, 5, 5), (10, 5, 5, 5, 5, 5, 5), (5, 5, 5, 5, 5, 5, 5, 5)"
   ]
  },
  {
   "cell_type": "markdown",
   "id": "b4da737d",
   "metadata": {
    "slideshow": {
     "slide_type": "subslide"
    }
   },
   "source": [
    "Hányféleképpen lehet felváltani `amount` összeget, ha a `coins` = $[c_0, c_1, ..., c_k]$ pénzérmék állnak rendelkezésre a felváltáshoz?\n",
    "\n",
    "\n",
    "```python\n",
    "def coin_sums(amount, coins):\n",
    "    pass\n",
    "```"
   ]
  },
  {
   "cell_type": "markdown",
   "id": "edcaed74",
   "metadata": {
    "slideshow": {
     "slide_type": "subslide"
    }
   },
   "source": [
    "Ötlet:\n",
    "\n",
    "$500$ Ft-ot fel lehet úgy váltani, hogy a 200 Ft-os érmét\n",
    "* nem is használjuk\n",
    "* egyszer használjuk\n",
    "* kétszer használjuk"
   ]
  },
  {
   "cell_type": "markdown",
   "id": "5dde6bf1",
   "metadata": {
    "slideshow": {
     "slide_type": "fragment"
    }
   },
   "source": [
    "$500$ Ft-ot fel lehet úgy váltani, hogy a 200 Ft-os érmét \n",
    "*  nem is használjuk, **így 500 Ft-ot kell felváltani**\n",
    "* egyszer használjuk, **így 300 Ft-ot kell felváltani**\n",
    "* kétszer használjuk, **így 100 Ft-ot kell felváltani**\n",
    "\n",
    "**a maradék $[5, 10, 20, 50, 100]$-as érméket használva.**"
   ]
  },
  {
   "cell_type": "code",
   "execution_count": null,
   "id": "c57c39e4",
   "metadata": {
    "slideshow": {
     "slide_type": "subslide"
    }
   },
   "outputs": [],
   "source": [
    "def coin_sums(amount, coins):\n",
    "    coin = coins[-1]\n",
    "    \n",
    "    result = 0\n",
    "    k = 0\n",
    "    while (new_amount := (amount - k * coin)) >= 0:\n",
    "        result += coin_sums(new_amount, coins[:-1])\n",
    "        k += 1\n",
    "        \n",
    "    return result"
   ]
  },
  {
   "cell_type": "code",
   "execution_count": null,
   "id": "bf8d65d9",
   "metadata": {
    "slideshow": {
     "slide_type": "subslide"
    }
   },
   "outputs": [],
   "source": [
    "coins = [5, 10, 20, 50, 100, 200]\n",
    "\n",
    "coin_sums(20, coins)"
   ]
  },
  {
   "cell_type": "code",
   "execution_count": null,
   "id": "7f3f2af7",
   "metadata": {
    "slideshow": {
     "slide_type": "subslide"
    }
   },
   "outputs": [],
   "source": [
    "def coin_sums(amount, coins): \n",
    "    if not coins:\n",
    "        return 0\n",
    "    \n",
    "    coin = coins[-1]\n",
    "    \n",
    "    result = 0\n",
    "    k = 0\n",
    "    while (new_amount := (amount - k * coin)) >= 0:\n",
    "        result += coin_sums(new_amount, coins[:-1])\n",
    "        k += 1\n",
    "        \n",
    "    return result"
   ]
  },
  {
   "cell_type": "code",
   "execution_count": null,
   "id": "e27d12f1",
   "metadata": {
    "slideshow": {
     "slide_type": "fragment"
    }
   },
   "outputs": [],
   "source": [
    "coin_sums(20, coins)"
   ]
  },
  {
   "cell_type": "code",
   "execution_count": null,
   "id": "68ce1212",
   "metadata": {
    "slideshow": {
     "slide_type": "subslide"
    }
   },
   "outputs": [],
   "source": [
    "def coin_sums(amount, coins):\n",
    "    if amount == 0:\n",
    "        return 1\n",
    "    \n",
    "    if not coins:\n",
    "        return 0\n",
    "    \n",
    "    coin = coins[-1]\n",
    "    \n",
    "    result = 0\n",
    "    k = 0\n",
    "    while (new_amount := (amount - k * coin)) >= 0:\n",
    "        result += coin_sums(new_amount, coins[:-1])\n",
    "        k += 1\n",
    "        \n",
    "    return result"
   ]
  },
  {
   "cell_type": "code",
   "execution_count": null,
   "id": "e2d3f19f",
   "metadata": {
    "slideshow": {
     "slide_type": "subslide"
    }
   },
   "outputs": [],
   "source": [
    "coin_sums(20, coins)"
   ]
  },
  {
   "cell_type": "code",
   "execution_count": null,
   "id": "9db230b5",
   "metadata": {
    "slideshow": {
     "slide_type": "fragment"
    }
   },
   "outputs": [],
   "source": [
    "coin_sums(40, coins)"
   ]
  },
  {
   "cell_type": "code",
   "execution_count": null,
   "id": "a38998a2",
   "metadata": {
    "slideshow": {
     "slide_type": "fragment"
    }
   },
   "outputs": [],
   "source": [
    "coin_sums(500, [5, 10, 20, 50, 100, 200])"
   ]
  },
  {
   "cell_type": "code",
   "execution_count": null,
   "id": "258ee49a",
   "metadata": {
    "slideshow": {
     "slide_type": "fragment"
    }
   },
   "outputs": [],
   "source": [
    "# Nem tudom, hogy ez mennyi ideig fut\n",
    "\n",
    "coin_sums(5000, [5, 10, 20, 50, 100, 200])"
   ]
  },
  {
   "cell_type": "markdown",
   "id": "6b50601b",
   "metadata": {
    "slideshow": {
     "slide_type": "subslide"
    }
   },
   "source": [
    "**Ötlet**: \n",
    "\n",
    "A részfeladatok megoldásait tároljuk táblázatos formában, továbbá ne felülről lefelé, hanem alulról felfelé számoljuk ki a megoldást (dinamikus programozás).\n",
    "\n",
    "$T_{i, j}$ legyen annak a feladatnak a megoldása, ahol a $j$ összeget kell előállítani a $[c_1, ..., c_i]$ pénzérmék felhasználásával."
   ]
  },
  {
   "cell_type": "markdown",
   "id": "bb1db33d",
   "metadata": {
    "slideshow": {
     "slide_type": "subslide"
    }
   },
   "source": [
    "Tegyük fel, hogy $5$ Ft-ot kell felváltani az 1, 2, 5 Ft-os érmékkel.\n",
    "\n",
    "<table border=\"1\" class=\"dataframe\">\n",
    "  <thead>\n",
    "    <tr style=\"text-align: right;\">\n",
    "      <th></th>\n",
    "      <th>0</th>\n",
    "      <th>1</th>\n",
    "      <th>2</th>\n",
    "      <th>3</th>\n",
    "      <th>4</th>\n",
    "      <th>5</th>\n",
    "    </tr>\n",
    "  </thead>\n",
    "  <tbody>\n",
    "    <tr>\n",
    "      <th>[1] Ft-os</th>\n",
    "      <td>0</td>\n",
    "      <td>0</td>\n",
    "      <td>0</td>\n",
    "      <td>0</td>\n",
    "      <td>0</td>\n",
    "      <td>0</td>\n",
    "    </tr>\n",
    "    <tr>\n",
    "      <th>[1, 2] Ft-os</th>\n",
    "      <td>0</td>\n",
    "      <td>0</td>\n",
    "      <td>0</td>\n",
    "      <td>0</td>\n",
    "      <td>0</td>\n",
    "      <td>0</td>\n",
    "    </tr>\n",
    "    <tr>\n",
    "      <th>[1, 2, 5] Ft-os</th>\n",
    "      <td>0</td>\n",
    "      <td>0</td>\n",
    "      <td>0</td>\n",
    "      <td>0</td>\n",
    "      <td>0</td>\n",
    "      <td>0</td>\n",
    "    </tr>\n",
    "  </tbody>\n",
    "</table>"
   ]
  },
  {
   "cell_type": "code",
   "execution_count": null,
   "id": "6cf7cec9",
   "metadata": {
    "slideshow": {
     "slide_type": "subslide"
    }
   },
   "outputs": [],
   "source": [
    "import numpy as np\n",
    "\n",
    "\n",
    "def coin_sums(amount, coins):\n",
    "    nr_coins = len(coins)\n",
    "    table = np.zeros((nr_coins, amount+1), dtype=np.int_)\n",
    "    \n",
    "    pass"
   ]
  },
  {
   "cell_type": "markdown",
   "id": "5b93a703",
   "metadata": {
    "slideshow": {
     "slide_type": "subslide"
    }
   },
   "source": [
    "<table border=\"1\" class=\"dataframe\">\n",
    "  <thead>\n",
    "    <tr style=\"text-align: right;\">\n",
    "      <th></th>\n",
    "      <th>0</th>\n",
    "      <th>1</th>\n",
    "      <th>2</th>\n",
    "      <th>3</th>\n",
    "      <th>4</th>\n",
    "      <th>5</th>\n",
    "    </tr>\n",
    "  </thead>\n",
    "  <tbody>\n",
    "    <tr>\n",
    "      <th>[1] Ft-os</th>\n",
    "      <td><b>1</b></td>\n",
    "      <td>0</td>\n",
    "      <td>0</td>\n",
    "      <td>0</td>\n",
    "      <td>0</td>\n",
    "      <td>0</td>\n",
    "    </tr>\n",
    "    <tr>\n",
    "      <th>[1, 2] Ft-os</th>\n",
    "      <td><b>1</b></td>\n",
    "      <td>0</td>\n",
    "      <td>0</td>\n",
    "      <td>0</td>\n",
    "      <td>0</td>\n",
    "      <td>0</td>\n",
    "    </tr>\n",
    "    <tr>\n",
    "      <th>[1, 2, 5] Ft-os</th>\n",
    "      <td><b>1</b></td>\n",
    "      <td>0</td>\n",
    "      <td>0</td>\n",
    "      <td>0</td>\n",
    "      <td>0</td>\n",
    "      <td>0</td>\n",
    "    </tr>\n",
    "  </tbody>\n",
    "</table>"
   ]
  },
  {
   "cell_type": "code",
   "execution_count": null,
   "id": "3098e73a",
   "metadata": {
    "slideshow": {
     "slide_type": "subslide"
    }
   },
   "outputs": [],
   "source": [
    "def coin_sums(amount, coins):\n",
    "    nr_coins = len(coins)\n",
    "    table = np.zeros((nr_coins, amount+1), dtype=np.int_)\n",
    "    \n",
    "    for row_ix in range(nr_coins):\n",
    "        table[row_ix, 0] = 1\n",
    "        \n",
    "    pass\n",
    "\n",
    "    return table[-1, -1]"
   ]
  },
  {
   "cell_type": "code",
   "execution_count": null,
   "id": "fc0b8d3b",
   "metadata": {
    "slideshow": {
     "slide_type": "subslide"
    }
   },
   "outputs": [],
   "source": [
    "def coin_sums(amount, coins):\n",
    "    nr_coins = len(coins)\n",
    "    table = np.zeros((nr_coins, amount+1), dtype=np.int_)\n",
    "    \n",
    "    for row_ix in range(nr_coins):\n",
    "        table[row_ix, 0] = 1\n",
    "\n",
    "    for j in range(1, amount+1):\n",
    "        for i in range(nr_coins):\n",
    "            # table[i, j] = ???\n",
    "            pass\n",
    "            \n",
    "    return table[-1, -1]"
   ]
  },
  {
   "cell_type": "markdown",
   "id": "5cc4d503",
   "metadata": {
    "slideshow": {
     "slide_type": "subslide"
    }
   },
   "source": [
    "$T[1, 4] = T[0, 2] + T[0, 0] + T[0, 4]$\n",
    "\n",
    "\n",
    "<table border=\"1\" class=\"dataframe\">\n",
    "  <thead>\n",
    "    <tr style=\"text-align: right;\">\n",
    "      <th></th>\n",
    "      <th>0</th>\n",
    "      <th>1</th>\n",
    "      <th>2</th>\n",
    "      <th>3</th>\n",
    "      <th>4</th>\n",
    "      <th>5</th>\n",
    "    </tr>\n",
    "  </thead>\n",
    "  <tbody>\n",
    "    <tr>\n",
    "      <th>[1] Ft-os</th>\n",
    "      <td>1</td>\n",
    "      <td>1</td>\n",
    "      <td>1</td>\n",
    "      <td>1</td>\n",
    "      <td>1</td>\n",
    "      <td>?</td>\n",
    "    </tr>\n",
    "    <tr>\n",
    "      <th>[1, 2] Ft-os</th>\n",
    "      <td>1</td>\n",
    "      <td>1</td>\n",
    "      <td>2</td>\n",
    "      <td>2</td>\n",
    "       <td><b>?</b></td>\n",
    "      <td>?</td>\n",
    "    </tr>\n",
    "    <tr>\n",
    "      <th>[1, 2, 5] Ft-os</th>\n",
    "      <td>1</td>\n",
    "      <td>1</td>\n",
    "      <td>2</td>\n",
    "      <td>2</td>\n",
    "      <td>?</td>\n",
    "      <td>?</td>\n",
    "    </tr>\n",
    "  </tbody>\n",
    "</table>"
   ]
  },
  {
   "cell_type": "code",
   "execution_count": null,
   "id": "b71df901",
   "metadata": {
    "slideshow": {
     "slide_type": "subslide"
    }
   },
   "outputs": [],
   "source": [
    "def coin_sums(amount, coins):\n",
    "    nr_coins = len(coins)\n",
    "    table = np.zeros((nr_coins, amount+1), dtype=np.int_)\n",
    "    \n",
    "    for row_ix in range(nr_coins):\n",
    "        table[row_ix, 0] = 1\n",
    "\n",
    "    for j in range(1, amount+1):\n",
    "        for i in range(nr_coins):\n",
    "            k = 0\n",
    "            while (new_amount := (j - k * coins[i])) >= 0:\n",
    "                if new_amount == 0:\n",
    "                    table[i, j] += 1\n",
    "                    \n",
    "                elif i >= 1: \n",
    "                    table[i, j] += table[i - 1, new_amount]\n",
    "                    \n",
    "                k += 1\n",
    "\n",
    "    return table[-1, -1]"
   ]
  },
  {
   "cell_type": "code",
   "execution_count": null,
   "id": "06265189",
   "metadata": {
    "slideshow": {
     "slide_type": "subslide"
    }
   },
   "outputs": [],
   "source": [
    "coin_sums(500, [5, 10, 20, 50, 100, 200])"
   ]
  },
  {
   "cell_type": "code",
   "execution_count": null,
   "id": "cbd276e3",
   "metadata": {
    "slideshow": {
     "slide_type": "fragment"
    }
   },
   "outputs": [],
   "source": [
    "coin_sums(5000, [5, 10, 20, 50, 100, 200])"
   ]
  },
  {
   "cell_type": "markdown",
   "id": "adf21097",
   "metadata": {
    "slideshow": {
     "slide_type": "slide"
    }
   },
   "source": [
    "## Érmedobálós játék (Coin throwing game)"
   ]
  },
  {
   "cell_type": "markdown",
   "id": "d7f32b20",
   "metadata": {
    "slideshow": {
     "slide_type": "subslide"
    }
   },
   "source": [
    "**Feladat**: Antal és Béla a következő játékot játsszák: egy szabályos pénzérmét dobálva Antal nyer, ha egymás után az FFI sorozat megjelenik, Béla pedig akkor, ha az IFI sorozat jelenik meg. Kinek van nagyobb esélye nyerni?"
   ]
  },
  {
   "cell_type": "code",
   "execution_count": null,
   "id": "ab5f63c7",
   "metadata": {
    "slideshow": {
     "slide_type": "subslide"
    }
   },
   "outputs": [],
   "source": [
    "import random"
   ]
  },
  {
   "cell_type": "code",
   "execution_count": null,
   "id": "08da969a",
   "metadata": {
    "slideshow": {
     "slide_type": "subslide"
    }
   },
   "outputs": [],
   "source": [
    "def coin_throw():\n",
    "    if random.random() < 0.5:\n",
    "        return \"F\"\n",
    "    \n",
    "    return \"I\""
   ]
  },
  {
   "cell_type": "code",
   "execution_count": null,
   "id": "9d2d3fc0",
   "metadata": {
    "slideshow": {
     "slide_type": "subslide"
    }
   },
   "outputs": [],
   "source": [
    "def play_game():\n",
    "    coins = []\n",
    "    while True:\n",
    "        coin = coin_throw()\n",
    "        pass"
   ]
  },
  {
   "cell_type": "code",
   "execution_count": null,
   "id": "4b00f606",
   "metadata": {
    "slideshow": {
     "slide_type": "subslide"
    }
   },
   "outputs": [],
   "source": [
    "def play_game():\n",
    "    coins = []\n",
    "    while True:\n",
    "        coin = coin_throw()\n",
    "        coins.append(coin)\n",
    "        pass"
   ]
  },
  {
   "cell_type": "code",
   "execution_count": null,
   "id": "98348e25",
   "metadata": {
    "slideshow": {
     "slide_type": "subslide"
    }
   },
   "outputs": [],
   "source": [
    "def play_game():\n",
    "    # valójában csak az utolsó 3 dobás eredményét kellene eltenni\n",
    "    coins = []\n",
    "    while True:\n",
    "        coin = coin_throw()\n",
    "        coins.append(coin)\n",
    "        if \"\".join(coins[-3:]) == \"FFI\":\n",
    "            return \"Antal\"\n",
    "        \n",
    "        if \"\".join(coins[-3:]) == \"IFI\":\n",
    "            return \"Béla\""
   ]
  },
  {
   "cell_type": "code",
   "execution_count": null,
   "id": "312d9f68",
   "metadata": {
    "slideshow": {
     "slide_type": "subslide"
    }
   },
   "outputs": [],
   "source": [
    "def run_simulation(n):\n",
    "    antal_won = 0\n",
    "    bela_won = 0\n",
    "    for _ in range(n):\n",
    "        winner = play_game()\n",
    "        if winner == \"Antal\":\n",
    "            antal_won += 1\n",
    "        \n",
    "        elif winner == \"Béla\":\n",
    "            bela_won += 1\n",
    "            \n",
    "    return {\"Antal\": antal_won / n, \"Bela\": bela_won / n}"
   ]
  },
  {
   "cell_type": "code",
   "execution_count": null,
   "id": "084e0364",
   "metadata": {
    "slideshow": {
     "slide_type": "subslide"
    }
   },
   "outputs": [],
   "source": [
    "run_simulation(100000)"
   ]
  },
  {
   "cell_type": "markdown",
   "id": "25f6453e",
   "metadata": {
    "slideshow": {
     "slide_type": "slide"
    }
   },
   "source": [
    "# Gráfok (Graphs)"
   ]
  },
  {
   "cell_type": "markdown",
   "id": "04bd96d9",
   "metadata": {
    "slideshow": {
     "slide_type": "subslide"
    }
   },
   "source": [
    "Gráfokat a $(V, E)$ párral definiáljuk, ahol $V$ a csúcsok halmaza, $E$ pedig az csúcspontok között haladó élek listája. Ezeket az információkat különböző módon lehet tárolni:\n",
    "\n",
    "* éllista\n",
    "* szomszédsági mátrix\n",
    "* szomszédsági lista"
   ]
  },
  {
   "cell_type": "markdown",
   "id": "e887ae1a",
   "metadata": {
    "slideshow": {
     "slide_type": "subslide"
    }
   },
   "source": [
    "Éllista esetén az első sorban az $n,e$ számok a csúcsok, illetve élek számát jelenti, a további $e$ sorban pedig az élek következnek: az $a,b$ jelölés azt jelenti, hogy van egy él $a$-ból $b$-be, az $a,b,w$ pedig egy $w$ súlyt is tesz a megadott élre. Most csak irányítatlan gráfokban az élsúlyozatlan esettel foglakozunk.\n",
    "\n",
    "<table>\n",
    "<tr>\n",
    "<td>\n",
    "\n",
    "```\n",
    "6 7\n",
    "1 2\n",
    "2 3\n",
    "6 3\n",
    "5 6\n",
    "2 5\n",
    "2 4\n",
    "4 1\n",
    "```\n",
    " \n",
    "</td>\n",
    "<td style=\"padding:100px\">\n",
    "    \n",
    "<img src=\"img/simple_graph.png\" width=\"400\" height=\"400\"> \n",
    "    \n",
    "</td>\n",
    "</tr>\n",
    "</table>"
   ]
  },
  {
   "cell_type": "markdown",
   "id": "9f29fc2d",
   "metadata": {
    "slideshow": {
     "slide_type": "subslide"
    }
   },
   "source": [
    "Szomszédségi mátrix esetén egy olyan $A\\in\\mathbb{R}^{n\\times n}$ mátrixunk van, amire $a_{ij}=1$ (esetleg $k$-szoros él esetén $k$), ha van él az $i$ és $j$ csúcsok között, egyébként a mátrix többi eleme 0.\n",
    "\n",
    "Végül a szomszédsági lista olyan tárolásmód, amikor minden csúcshoz eltároljuk a szomszédainak listáját, pl.\n",
    "\n",
    "```\n",
    "v: [u_1, u_2,...,u_l],\n",
    "```\n",
    "a $v$ csomópont szomszédainak listája, mindezt minden $v\\in V$ csúcsra eltárolva."
   ]
  },
  {
   "cell_type": "markdown",
   "id": "3500d4f2",
   "metadata": {
    "slideshow": {
     "slide_type": "subslide"
    }
   },
   "source": [
    "## Legrövidebb út keresése gráfokban (Shortest path in a graph)"
   ]
  },
  {
   "cell_type": "markdown",
   "id": "9cea865d",
   "metadata": {
    "slideshow": {
     "slide_type": "subslide"
    }
   },
   "source": [
    "Tegyünk fel, hogy adott egy irányítatlan, egyszerű gráf, valamint ennek egy rögzített $u$ csúcsa. Arra vagyunk kíváncsiak, hogy $u$-ból mi a legrövidebb út bármely más csúcsba, ahol az út hosszán egyszerűen az odavezető utat alkotó élek számát értjük.\n",
    "\n",
    "A kétféle gráfbejárás közül a szélességi keresés (BFS, Breadth-first search) segít most nekünk."
   ]
  },
  {
   "cell_type": "markdown",
   "id": "e74590cb",
   "metadata": {
    "slideshow": {
     "slide_type": "subslide"
    }
   },
   "source": [
    "Adott $v$ csúcs és minden más csúcs között mi a legrövidebb út hossza?\n",
    "\n",
    "* induljunk ki a $v$ pontból\n",
    "* látogassuk meg $v$ összes szomszédját (ezek vannak 1 távolságra $v$-től)\n",
    "* látogassuk meg ezek olyan szomszédait, melyeket még nem látogattunk meg korábban (ezek vannak 2 távolságra $v$-től)\n",
    "* a fenti eljárást folytassuk addig, amíg találunk olyan csúcsot, melyet nem jártunk még be korábban\n",
    "* ezzel minden, $v$-ből elérhető pont távolságát megkaptuk\n",
    "* azon pontok, melyeket egyszer sem látogattunk meg, $v$-ből nem érhetők el úton (tehát a gráfnak több komponense is van)"
   ]
  },
  {
   "cell_type": "markdown",
   "id": "309ca234",
   "metadata": {
    "slideshow": {
     "slide_type": "subslide"
    }
   },
   "source": [
    "Tegyük fel az egyszerűség kedvéért, hogy a gráf csúcsai az $1, 2,\\ldots,n$ számokkal van jelölve."
   ]
  },
  {
   "cell_type": "code",
   "execution_count": null,
   "id": "fc695dc8",
   "metadata": {
    "slideshow": {
     "slide_type": "fragment"
    }
   },
   "outputs": [],
   "source": [
    "class Graph:\n",
    "    def __init__(self, edges):\n",
    "        self._adjacency_list = create_adjacency_list_from_edges(edges)\n",
    "        \n",
    "\n",
    "def create_adjacency_list_from_edges(edges):\n",
    "    pass"
   ]
  },
  {
   "cell_type": "code",
   "execution_count": null,
   "id": "c748e35d",
   "metadata": {
    "slideshow": {
     "slide_type": "subslide"
    }
   },
   "outputs": [],
   "source": [
    "from collections import defaultdict\n",
    "\n",
    "\n",
    "class Graph:\n",
    "    def __init__(self, edges):\n",
    "        self._adjacency_list = create_adjacency_list_from_edges(edges)\n",
    "        \n",
    "\n",
    "def create_adjacency_list_from_edges(edges):\n",
    "    pass"
   ]
  },
  {
   "cell_type": "code",
   "execution_count": null,
   "id": "9ca34cf2",
   "metadata": {
    "slideshow": {
     "slide_type": "subslide"
    }
   },
   "outputs": [],
   "source": [
    "class Graph:\n",
    "    def __init__(self, edges):\n",
    "        self._adjacency_list = create_adjacency_list_from_edges(edges)\n",
    "\n",
    "\n",
    "def create_adjacency_list_from_edges(edges):\n",
    "    adjacency_lists = defaultdict(list)\n",
    "    for a, b in edges:\n",
    "        pass\n",
    "    \n",
    "    return dict(adjacency_lists)"
   ]
  },
  {
   "cell_type": "code",
   "execution_count": null,
   "id": "bace68ce",
   "metadata": {
    "slideshow": {
     "slide_type": "subslide"
    }
   },
   "outputs": [],
   "source": [
    "class Graph:\n",
    "    def __init__(self, edges):\n",
    "        self._adjacency_list = create_adjacency_list_from_edges(edges)\n",
    "\n",
    "\n",
    "def create_adjacency_list_from_edges(edges):\n",
    "    adjacency_lists = defaultdict(list)\n",
    "    for a, b in edges:\n",
    "        adjacency_lists[a].append(b)\n",
    "        adjacency_lists[b].append(a)\n",
    "    return dict(adjacency_lists)"
   ]
  },
  {
   "cell_type": "code",
   "execution_count": null,
   "id": "2ed2880a",
   "metadata": {
    "slideshow": {
     "slide_type": "subslide"
    }
   },
   "outputs": [],
   "source": [
    "nr_nodes = 6\n",
    "edges = [(1, 2), (2, 3), (6, 3), (5, 6), (2, 5), (2, 4), (4, 1)]\n",
    "\n",
    "create_adjacency_list_from_edges(edges)"
   ]
  },
  {
   "cell_type": "code",
   "execution_count": null,
   "id": "2d5476b0",
   "metadata": {
    "slideshow": {
     "slide_type": "subslide"
    }
   },
   "outputs": [],
   "source": [
    "class Graph:\n",
    "    def __init__(self, edges):\n",
    "        self._adjacency_list = create_adjacency_list_from_edges(edges)\n",
    "        \n",
    "    def neighbors(self, node):\n",
    "        pass"
   ]
  },
  {
   "cell_type": "code",
   "execution_count": null,
   "id": "9157fe2a",
   "metadata": {
    "slideshow": {
     "slide_type": "subslide"
    }
   },
   "outputs": [],
   "source": [
    "class Graph:\n",
    "    def __init__(self, edges):\n",
    "        self._adjacency_list = create_adjacency_list_from_edges(edges)\n",
    "        \n",
    "    def neighbors(self, node):\n",
    "        return self._adjacency_list[node]   # Ez jo lesz igy?"
   ]
  },
  {
   "cell_type": "code",
   "execution_count": null,
   "id": "1678f257",
   "metadata": {
    "slideshow": {
     "slide_type": "subslide"
    }
   },
   "outputs": [],
   "source": [
    "class Graph:\n",
    "    def __init__(self, edges):\n",
    "        self._adjacency_list = create_adjacency_list_from_edges(edges)\n",
    "        \n",
    "    def neighbors(self, node):\n",
    "        return self._adjacency_list.get(node, [])"
   ]
  },
  {
   "cell_type": "code",
   "execution_count": null,
   "id": "18e97982",
   "metadata": {
    "slideshow": {
     "slide_type": "subslide"
    }
   },
   "outputs": [],
   "source": [
    "class Graph:\n",
    "    def __init__(self, nr_nodes, edges):\n",
    "        self._nr_nodes = nr_nodes\n",
    "        self._adjacency_list = create_adjacency_list_from_edges(edges)\n",
    "        \n",
    "    @property    \n",
    "    def nr_nodes(self):\n",
    "        return self._nr_nodes\n",
    "        \n",
    "    def neighbors(self, node):\n",
    "        return self._adjacency_list.get(node, [])"
   ]
  },
  {
   "cell_type": "code",
   "execution_count": null,
   "id": "90f70385",
   "metadata": {
    "slideshow": {
     "slide_type": "subslide"
    }
   },
   "outputs": [],
   "source": [
    "import math\n",
    "\n",
    "\n",
    "def calc_shortest_distances(graph, start_node):\n",
    "    distances = [math.inf] * graph.nr_nodes\n",
    "    distances[start_node-1] = 0.0\n",
    "    pass"
   ]
  },
  {
   "cell_type": "code",
   "execution_count": null,
   "id": "18f47dc4",
   "metadata": {
    "slideshow": {
     "slide_type": "subslide"
    }
   },
   "outputs": [],
   "source": [
    "def calc_shortest_distances(graph, start_node):\n",
    "    distances = [math.inf] * graph.nr_nodes\n",
    "    distances[start_node-1] = 0.0\n",
    "    queue = [start_node]\n",
    "    while queue:\n",
    "        # u = a sorban kovetkezo csucs\n",
    "        # u minden v szomszedjara, melyet meg nem latogattunk meg korabban:\n",
    "        # v-t tegyük a sor végére\n",
    "        # dist[v] = dist[u] + 1\n",
    "        pass"
   ]
  },
  {
   "cell_type": "markdown",
   "id": "6ffb6491",
   "metadata": {
    "slideshow": {
     "slide_type": "subslide"
    }
   },
   "source": [
    "Milyen adatszerkezet lenne jó, amiből sorra ki tudjuk venni a csúcsokat, majd ezek meg nem látogatott szomszédait be tudjuk tenni?\n",
    "\n",
    "* Jó egy egy Python lista erre a célra?\n",
    "* Ha $v$ az $u$ egy korábban nem látogatott szomszédja, akkor tegyük a lista végére $v$-t\n",
    "* Melyik legyen az a csúcs, amit legközelebb kiveszünk ebből az adatszerkezetből? A $v$? (azaz amit legutóbb raktunk be?)\n",
    "* Vagy inkább az, amit a legrégebben állítottunk be a sorba?"
   ]
  },
  {
   "cell_type": "markdown",
   "id": "cd348ce9",
   "metadata": {
    "slideshow": {
     "slide_type": "subslide"
    }
   },
   "source": [
    "Korábban láttuk a verem adatszerkezetet (Stack, LIFO). \n",
    "\n",
    "Nekünk most valami más kell. Olyat szeretnénk, ahol a végébe gyorsan lehet új elemet tenni, de kivenni a másik végéből lehet gyorsan."
   ]
  },
  {
   "cell_type": "markdown",
   "id": "a2632505",
   "metadata": {
    "slideshow": {
     "slide_type": "subslide"
    }
   },
   "source": [
    "Ennek az adatszerkezetnek a neve Sor (Queue), FIFO - First in, first out. Egy pénztár előtt kígyózó sor végére kerül az új vásárló, de nem ő lesz először kiszolgálva, hanem a sor elején álló személy.\n",
    "\n",
    "![](img/queue.png)"
   ]
  },
  {
   "cell_type": "markdown",
   "id": "7141597e",
   "metadata": {
    "slideshow": {
     "slide_type": "subslide"
    }
   },
   "source": [
    "Pythonban van ún. double-ended queue implementálva, ami azt jelenti, hogy támogatja a sor mindkét végére történő gyors beszúrást, illetve bármelyik végéről a gyors törlést. \n",
    "\n",
    "Emlékeztetek arra, hogy a Python `list` adatszerkezetbe gyorsan lehet a végére elemet tenni, de a másik végére (azaz az elejére) beszúrni vagy törölni elemet lassú művelet."
   ]
  },
  {
   "cell_type": "code",
   "execution_count": null,
   "id": "2c802c5f",
   "metadata": {
    "slideshow": {
     "slide_type": "subslide"
    }
   },
   "outputs": [],
   "source": [
    "from collections import deque\n",
    "\n",
    "\n",
    "def calc_shortest_distances(graph, start_node):\n",
    "    distances = [math.inf] * graph.nr_nodes\n",
    "    distances[start_node-1] = 0.0\n",
    "    queue = deque([start_node])\n",
    "    while queue:\n",
    "        # u = a sorban kovetkezo csucs\n",
    "        # u minden v szomszedjara, melyet meg nem latogattunk meg korabban:\n",
    "        # v-t allitsuk sorba\n",
    "        # dist[v] = dist[u] + 1\n",
    "        pass"
   ]
  }
 ],
 "metadata": {
  "celltoolbar": "Slideshow",
  "kernelspec": {
   "display_name": "Python 3 (ipykernel)",
   "language": "python",
   "name": "python3"
  },
  "language_info": {
   "codemirror_mode": {
    "name": "ipython",
    "version": 3
   },
   "file_extension": ".py",
   "mimetype": "text/x-python",
   "name": "python",
   "nbconvert_exporter": "python",
   "pygments_lexer": "ipython3",
   "version": "3.10.12"
  }
 },
 "nbformat": 4,
 "nbformat_minor": 5
}
