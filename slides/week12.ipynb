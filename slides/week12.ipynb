{
 "cells": [
  {
   "cell_type": "markdown",
   "id": "497a8804",
   "metadata": {
    "slideshow": {
     "slide_type": "slide"
    }
   },
   "source": [
    "## Legrövidebb út keresése gráfokban (Shortest path in a graph)"
   ]
  },
  {
   "cell_type": "code",
   "execution_count": null,
   "id": "33393965",
   "metadata": {
    "slideshow": {
     "slide_type": "subslide"
    }
   },
   "outputs": [],
   "source": [
    "import math\n",
    "\n",
    "from collections import defaultdict, deque"
   ]
  },
  {
   "cell_type": "code",
   "execution_count": null,
   "id": "cef56318",
   "metadata": {
    "slideshow": {
     "slide_type": "subslide"
    }
   },
   "outputs": [],
   "source": [
    "class Graph:\n",
    "    def __init__(self, nr_nodes, edges):\n",
    "        self._nr_nodes = nr_nodes\n",
    "        self._adjacency_list = create_adjacency_list_from_edges(edges)\n",
    "        \n",
    "    @property    \n",
    "    def nr_nodes(self):\n",
    "        return self._nr_nodes\n",
    "        \n",
    "    def neighbors(self, node):\n",
    "        return self._adjacency_list.get(node, [])\n",
    "\n",
    "\n",
    "def create_adjacency_list_from_edges(edges):\n",
    "    adjacency_lists = defaultdict(list)\n",
    "    for a, b in edges:\n",
    "        adjacency_lists[a].append(b)\n",
    "        adjacency_lists[b].append(a)\n",
    "    return dict(adjacency_lists)"
   ]
  },
  {
   "cell_type": "code",
   "execution_count": null,
   "id": "f8549305",
   "metadata": {
    "slideshow": {
     "slide_type": "subslide"
    }
   },
   "outputs": [],
   "source": [
    "def calc_shortest_distances(graph, start_node):\n",
    "    distances = [math.inf] * graph.nr_nodes\n",
    "    distances[start_node-1] = 0.0\n",
    "    queue = deque([start_node])\n",
    "    while queue:\n",
    "        # u = a sorban kovetkezo csucs\n",
    "        # u minden v szomszedjara, melyet meg nem latogattunk meg korabban:\n",
    "        # v-t allitsuk sorba\n",
    "        # dist[v] = dist[u] + 1\n",
    "        pass"
   ]
  },
  {
   "cell_type": "code",
   "execution_count": null,
   "id": "2a84517b",
   "metadata": {
    "slideshow": {
     "slide_type": "subslide"
    }
   },
   "outputs": [],
   "source": [
    "def calc_shortest_distances(graph, start_node):\n",
    "    distances = [math.inf] * graph.nr_nodes\n",
    "    distances[start_node-1] = 0.0\n",
    "    queue = deque([start_node])\n",
    "    while queue:\n",
    "        u = queue.popleft()\n",
    "        for neighbor in graph.neighbors(u):\n",
    "            # mit csinaljunk az u csucs szomszedaival?\n",
    "            pass"
   ]
  },
  {
   "cell_type": "code",
   "execution_count": null,
   "id": "42eeea23",
   "metadata": {
    "slideshow": {
     "slide_type": "subslide"
    }
   },
   "outputs": [],
   "source": [
    "def calc_shortest_distances(graph, start_node):\n",
    "    distances = [math.inf] * graph.nr_nodes\n",
    "    distances[start_node-1] = 0.0\n",
    "    queue = deque([start_node])\n",
    "    while queue:\n",
    "        u = queue.popleft()\n",
    "        for neighbor in graph.neighbors(u):\n",
    "            if math.isinf(distances[neighbor-1]):\n",
    "                # Ha egy szomszedot meg nem latogattunk meg \n",
    "                # (azaz u-tol meg mindig vegtelen tavolsagra van):\n",
    "                pass"
   ]
  },
  {
   "cell_type": "code",
   "execution_count": null,
   "id": "39de0750",
   "metadata": {
    "slideshow": {
     "slide_type": "subslide"
    }
   },
   "outputs": [],
   "source": [
    "def calc_shortest_distances(graph, start_node):\n",
    "    distances = [math.inf] * graph.nr_nodes\n",
    "    distances[start_node-1] = 0.0\n",
    "    queue = deque([start_node])\n",
    "    while queue:\n",
    "        u = queue.popleft()\n",
    "        for neighbor in graph.neighbors(u):\n",
    "            if math.isinf(distances[neighbor-1]):\n",
    "                queue.append(neighbor)\n",
    "                distances[neighbor-1] = distances[u-1] + 1\n",
    "    \n",
    "    return tuple(distances)"
   ]
  },
  {
   "cell_type": "code",
   "execution_count": null,
   "id": "e73e3c25",
   "metadata": {
    "slideshow": {
     "slide_type": "subslide"
    }
   },
   "outputs": [],
   "source": [
    "nr_nodes = 6\n",
    "edges = [(1, 2), (2, 3), (6, 3), (5, 6), (2, 5), (2, 4), (4, 1)]\n",
    "\n",
    "\n",
    "graph = Graph(nr_nodes, edges)"
   ]
  },
  {
   "cell_type": "code",
   "execution_count": null,
   "id": "70ac9487",
   "metadata": {
    "slideshow": {
     "slide_type": "fragment"
    }
   },
   "outputs": [],
   "source": [
    "graph.neighbors(1)"
   ]
  },
  {
   "cell_type": "code",
   "execution_count": null,
   "id": "de7cec6f",
   "metadata": {
    "slideshow": {
     "slide_type": "fragment"
    }
   },
   "outputs": [],
   "source": [
    "calc_shortest_distances(graph, 1)"
   ]
  },
  {
   "cell_type": "markdown",
   "id": "0e09c627",
   "metadata": {
    "slideshow": {
     "slide_type": "subslide"
    }
   },
   "source": [
    "A legrövidebb út hossza már megvan, de hogyan jutunk hozzá magához az úthoz?"
   ]
  },
  {
   "cell_type": "code",
   "execution_count": null,
   "id": "4b68495f",
   "metadata": {
    "slideshow": {
     "slide_type": "subslide"
    }
   },
   "outputs": [],
   "source": [
    "def calc_shortest_distances(graph, start_node):\n",
    "    distances = [math.inf] * graph.nr_nodes\n",
    "    distances[start_node-1] = 0.0\n",
    "    previous_node = [None] * graph.nr_nodes\n",
    "    queue = deque([start_node])\n",
    "    while queue:\n",
    "        u = queue.popleft()\n",
    "        for neighbor in graph.neighbors(u):\n",
    "            if math.isinf(distances[neighbor-1]):\n",
    "                queue.append(neighbor)\n",
    "                distances[neighbor-1] = distances[u-1] + 1\n",
    "                previous_node[neighbor-1] = u\n",
    "    \n",
    "    return tuple(distances), previous_node"
   ]
  },
  {
   "cell_type": "code",
   "execution_count": null,
   "id": "0ae1d923",
   "metadata": {
    "slideshow": {
     "slide_type": "subslide"
    }
   },
   "outputs": [],
   "source": [
    "def reconstruct_path(graph, start_node, end_node, previous_node):\n",
    "    path = []\n",
    "    pass"
   ]
  },
  {
   "cell_type": "code",
   "execution_count": null,
   "id": "bf42daf7",
   "metadata": {
    "slideshow": {
     "slide_type": "subslide"
    }
   },
   "outputs": [],
   "source": [
    "def reconstruct_path(graph, start_node, end_node, previous_node):\n",
    "    path = []\n",
    "    node = end_node\n",
    "    while node is not None:\n",
    "        pass"
   ]
  },
  {
   "cell_type": "code",
   "execution_count": null,
   "id": "8f729f7e",
   "metadata": {
    "slideshow": {
     "slide_type": "subslide"
    }
   },
   "outputs": [],
   "source": [
    "def reconstruct_path(graph, start_node, end_node, previous_node):\n",
    "    path = []\n",
    "    node = end_node\n",
    "    while node is not None:\n",
    "        path.append(node)\n",
    "        node = previous_node[node-1]\n",
    "    pass"
   ]
  },
  {
   "cell_type": "code",
   "execution_count": null,
   "id": "3b32261d",
   "metadata": {
    "slideshow": {
     "slide_type": "subslide"
    }
   },
   "outputs": [],
   "source": [
    "def reconstruct_path(graph, start_node, end_node, previous_node):\n",
    "    path = []\n",
    "    node = end_node\n",
    "    while node is not None:\n",
    "        path.append(node)\n",
    "        node = previous_node[node-1]\n",
    "    return path[::-1]"
   ]
  },
  {
   "cell_type": "code",
   "execution_count": null,
   "id": "b3a84031",
   "metadata": {
    "slideshow": {
     "slide_type": "subslide"
    }
   },
   "outputs": [],
   "source": [
    "distances, previous_nodes = calc_shortest_distances(graph, 1)"
   ]
  },
  {
   "cell_type": "code",
   "execution_count": null,
   "id": "ff6a8ccd",
   "metadata": {
    "slideshow": {
     "slide_type": "fragment"
    }
   },
   "outputs": [],
   "source": [
    "reconstruct_path(graph, 1, 6, previous_nodes)"
   ]
  },
  {
   "cell_type": "markdown",
   "id": "73829172",
   "metadata": {
    "slideshow": {
     "slide_type": "slide"
    }
   },
   "source": [
    "# Repülőútvonal-tervezés legkevesebb átszállással"
   ]
  },
  {
   "cell_type": "code",
   "execution_count": null,
   "id": "5262736a",
   "metadata": {
    "slideshow": {
     "slide_type": "subslide"
    }
   },
   "outputs": [],
   "source": [
    "path_to_data = \"data/flight_routes.txt\""
   ]
  },
  {
   "cell_type": "code",
   "execution_count": null,
   "id": "fda9533d",
   "metadata": {
    "slideshow": {
     "slide_type": "subslide"
    }
   },
   "outputs": [],
   "source": [
    "!head -n 10 $path_to_data"
   ]
  },
  {
   "cell_type": "code",
   "execution_count": null,
   "id": "c47de17d",
   "metadata": {
    "slideshow": {
     "slide_type": "subslide"
    }
   },
   "outputs": [],
   "source": [
    "!grep \"Debrecen|Hungary\" $path_to_data | head -n 5"
   ]
  },
  {
   "cell_type": "markdown",
   "id": "c8455bf2",
   "metadata": {
    "slideshow": {
     "slide_type": "slide"
    }
   },
   "source": [
    "**Feladat**: repülőgéppel hány átszállással lehet eljutni Debrecenből Katmanduba menetrend szerinti járatokkal?\n",
    "\n",
    "Igazából sokkal több kérdést is meg tudunk majd válaszolni:\n",
    "\n",
    "* Van-e olyan repülőtér, ahova nem tudunk Debrecenből eljutni menetrendszerinti járattal, tetszőleges számú átszállással sem?\n",
    "* Honnan lehet Katmanduba eljutni kevesebb átszállással, Debrecenből, vagy Honoluluból?\n",
    "* Melyek azok a városok, ahova a legtöbb átszállással lehet eljutni Debrecenből?"
   ]
  },
  {
   "cell_type": "code",
   "execution_count": null,
   "id": "3ed38538",
   "metadata": {
    "slideshow": {
     "slide_type": "subslide"
    }
   },
   "outputs": [],
   "source": [
    "def read_flight_routes(path):\n",
    "    edges = []\n",
    "    with open(path, \"r\") as f:\n",
    "        lines = f.read().splitlines()\n",
    "        nr_nodes, _ = map(int, lines[0].split(\"\\t\"))\n",
    "        for line in lines[1:]:\n",
    "            a, b, _ = line.split(\"\\t\")\n",
    "            edges.append((a, b))\n",
    "                \n",
    "    return nr_nodes, edges"
   ]
  },
  {
   "cell_type": "code",
   "execution_count": null,
   "id": "b8b14600",
   "metadata": {
    "slideshow": {
     "slide_type": "subslide"
    }
   },
   "outputs": [],
   "source": [
    "nr_nodes, edges = read_flight_routes(path_to_data)"
   ]
  },
  {
   "cell_type": "code",
   "execution_count": null,
   "id": "c07abe58",
   "metadata": {
    "slideshow": {
     "slide_type": "subslide"
    }
   },
   "outputs": [],
   "source": [
    "edges[:10]"
   ]
  },
  {
   "cell_type": "code",
   "execution_count": null,
   "id": "775a1ab0",
   "metadata": {
    "slideshow": {
     "slide_type": "subslide"
    }
   },
   "outputs": [],
   "source": [
    "class CityConverter:\n",
    "    def __init__(self):\n",
    "        self._city_to_number = {}\n",
    "        self._number_to_city = {}\n",
    "        \n",
    "    def encode(self, city):\n",
    "        pass\n",
    "    \n",
    "    def decode(self, number):\n",
    "        pass"
   ]
  },
  {
   "cell_type": "code",
   "execution_count": null,
   "id": "df8928ca",
   "metadata": {
    "slideshow": {
     "slide_type": "subslide"
    }
   },
   "outputs": [],
   "source": [
    "import itertools as it\n",
    "\n",
    "\n",
    "class CityConverter:\n",
    "    def __init__(self):\n",
    "        self._id_generator = it.count(1)\n",
    "        self._city_to_number = {}\n",
    "        self._number_to_city = {}  \n",
    "        \n",
    "    def encode(self, city):\n",
    "        if (number := self._city_to_number.get(city)) is None:\n",
    "            number = next(self._id_generator)\n",
    "            self._city_to_number[city] = number\n",
    "            self._number_to_city[number] = city\n",
    "        return number \n",
    "\n",
    "    def decode(self, number):\n",
    "        return self._number_to_city.get(number)"
   ]
  },
  {
   "cell_type": "code",
   "execution_count": null,
   "id": "1ced36c6",
   "metadata": {
    "slideshow": {
     "slide_type": "subslide"
    }
   },
   "outputs": [],
   "source": [
    "converter = CityConverter()\n",
    "\n",
    "encoded_edges = [(converter.encode(a), converter.encode(b)) for a, b in edges]"
   ]
  },
  {
   "cell_type": "code",
   "execution_count": null,
   "id": "5219befe",
   "metadata": {
    "slideshow": {
     "slide_type": "subslide"
    }
   },
   "outputs": [],
   "source": [
    "print(encoded_edges[:3])\n",
    "print(edges[:3])\n",
    "\n",
    "print()\n",
    "print(converter.decode(1))\n",
    "print(converter.decode(2))\n",
    "print(converter.decode(3))"
   ]
  },
  {
   "cell_type": "code",
   "execution_count": null,
   "id": "9727f3ad",
   "metadata": {
    "slideshow": {
     "slide_type": "subslide"
    }
   },
   "outputs": [],
   "source": [
    "graph = Graph(nr_nodes, encoded_edges)\n",
    "\n",
    "source = converter.encode(\"Debrecen|Hungary\")\n",
    "destination = converter.encode(\"Kathmandu|Nepal\")"
   ]
  },
  {
   "cell_type": "code",
   "execution_count": null,
   "id": "e51bc5cc",
   "metadata": {
    "slideshow": {
     "slide_type": "subslide"
    }
   },
   "outputs": [],
   "source": [
    "distances, previous_nodes = calc_shortest_distances(graph, source)\n",
    "\n",
    "path = reconstruct_path(graph, source, destination, previous_nodes)"
   ]
  },
  {
   "cell_type": "code",
   "execution_count": null,
   "id": "5e74bb59",
   "metadata": {
    "slideshow": {
     "slide_type": "fragment"
    }
   },
   "outputs": [],
   "source": [
    "list(map(converter.decode, path))"
   ]
  },
  {
   "cell_type": "code",
   "execution_count": null,
   "id": "2dce5987",
   "metadata": {
    "slideshow": {
     "slide_type": "subslide"
    }
   },
   "outputs": [],
   "source": [
    "# Azon varosok, melyek nem erhetok el a kiindulasi pontbol\n",
    "\n",
    "for ix, dist in enumerate(distances, start=1):\n",
    "    if math.isinf(dist):\n",
    "        print(converter.decode(ix))"
   ]
  },
  {
   "cell_type": "markdown",
   "id": "08ac42bf",
   "metadata": {
    "slideshow": {
     "slide_type": "fragment"
    }
   },
   "source": [
    "**HF**: Melyik az a város, ahova a legtöbb átszállás szükséges, ha el akarok oda jutni Debrecenből? Hogyan lehet oda eljutni?"
   ]
  },
  {
   "cell_type": "code",
   "execution_count": null,
   "id": "00353641",
   "metadata": {
    "slideshow": {
     "slide_type": "slide"
    }
   },
   "outputs": [],
   "source": [
    "source = converter.encode(\"Honolulu|United States\")\n",
    "destination = converter.encode(\"Kathmandu|Nepal\")\n",
    "\n",
    "distances, previous_nodes = calc_shortest_distances(graph, source)\n",
    "path = reconstruct_path(graph, source, destination, previous_nodes)"
   ]
  },
  {
   "cell_type": "code",
   "execution_count": null,
   "id": "2ae99bd8",
   "metadata": {
    "slideshow": {
     "slide_type": "subslide"
    }
   },
   "outputs": [],
   "source": [
    "list(map(converter.decode, path))"
   ]
  }
 ],
 "metadata": {
  "celltoolbar": "Slideshow",
  "kernelspec": {
   "display_name": "Python 3 (ipykernel)",
   "language": "python",
   "name": "python3"
  },
  "language_info": {
   "codemirror_mode": {
    "name": "ipython",
    "version": 3
   },
   "file_extension": ".py",
   "mimetype": "text/x-python",
   "name": "python",
   "nbconvert_exporter": "python",
   "pygments_lexer": "ipython3",
   "version": "3.10.12"
  }
 },
 "nbformat": 4,
 "nbformat_minor": 5
}
