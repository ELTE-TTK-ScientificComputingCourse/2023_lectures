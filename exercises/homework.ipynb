{
 "cells": [
  {
   "cell_type": "markdown",
   "id": "8530af5b",
   "metadata": {},
   "source": [
    "# Házi feladatok\n",
    "\n",
    "\n",
    "Az előadásokon szereplő házi feladatok elsődleges szerepe az, hogy a hallgatók maguktól utánanézzenek néhány fogalomnak vagy módszernek, melyek nincsenek kifejtve órán."
   ]
  },
  {
   "cell_type": "markdown",
   "id": "c5895033",
   "metadata": {},
   "source": [
    "####  Mit csinál a `for-else` konstrukció? Mit csinál az alábbi kódrészlet?"
   ]
  },
  {
   "cell_type": "code",
   "execution_count": null,
   "id": "135827e3",
   "metadata": {},
   "outputs": [],
   "source": [
    "limit = 100\n",
    "\n",
    "for n in range(2, limit+1):\n",
    "    for k in range(2, n):\n",
    "        if n % k == 0:\n",
    "            break\n",
    "    else:\n",
    "        print(n)"
   ]
  },
  {
   "cell_type": "markdown",
   "id": "26c921bd",
   "metadata": {},
   "source": [
    "#### Az $x^k$ kiszámításához módosítsuk az alábbi rekurzív függvényt, hogy bármilyen $k\\in\\mathbb{Z}$ kitevőre működjön."
   ]
  },
  {
   "cell_type": "code",
   "execution_count": null,
   "id": "e0e00c2e",
   "metadata": {},
   "outputs": [],
   "source": [
    "def calc_integer_power(x, k):    \n",
    "    if k == 0:\n",
    "        return 1\n",
    "    \n",
    "    return x * calc_integer_power(x, k - 1)"
   ]
  },
  {
   "cell_type": "markdown",
   "id": "d2e4acba",
   "metadata": {},
   "source": [
    "#### Írjuk meg a faktoriális függvényt rekurzió nélkül.\n",
    "\n",
    "```python\n",
    "def factorial(n):    \n",
    "    pass\n",
    "```"
   ]
  },
  {
   "cell_type": "markdown",
   "id": "934dfa5d",
   "metadata": {},
   "source": [
    "#### Két függvény összege\n",
    "\n",
    "Írjunk egy függvényt, amely inputként vár két függvényt és az output az a függvény, amelyik a két input összege. Azaz ha $f$ és $g$ függvények, akkor az output legyen az a $h$ függvény, melyre $h(x) = f(x) + g(x)$.\n",
    "\n",
    "```python\n",
    "def add_two_functions(f, g):\n",
    "    pass\n",
    "```"
   ]
  },
  {
   "cell_type": "markdown",
   "id": "3a8194e6",
   "metadata": {},
   "source": [
    "#### Két függvény kompozíciója\n",
    "\n",
    "Írjunk egy függvényt, amely inputként vár két függvényt és az output az a függvény, amelyik a két input kompozíciója. Azaz ha $f$ és $g$ függvények, akkor az output legyen az a $h$ függvény, melyre $h(x) = f(g(x))$.\n",
    "\n",
    "```python\n",
    "def compose(f, g):\n",
    "    pass\n",
    "```"
   ]
  },
  {
   "cell_type": "markdown",
   "id": "5046dc75",
   "metadata": {},
   "source": [
    "#### Egy adott sztringből távolítsuk el az egymás mellett álló ismétlődő karaktereket. \n",
    "\n",
    "Példa: \"kukkkuuuurrrriiiikuuuuuuuu\" -> \"kukuriku\"\n",
    "\n",
    "```python\n",
    "def remove_consecutive_duplicates(string):\n",
    "    pass\n",
    "```"
   ]
  },
  {
   "cell_type": "markdown",
   "id": "3ca6a203",
   "metadata": {},
   "source": [
    "#### 2-SUM\n",
    "\n",
    "Adott egy $n\\leq 10^5$ szám és egy $n$ hosszú $a$ lista, melynek elemeire $-10^{5} \\leq a_i \\leq 10^5$ teljesül. Keressünk olyan $0\\leq p<q < n$ indexpárt, hogy $a[p] = −a[q]$, ha ilyen létezik.\n",
    "\n",
    "Az algoritmus tetszőleges olyan inputra, ami a fenti feltételeket teljesíti, legfeljebb 0.1 másodperc alatt adjon vissza egy megfelelő indexpárt, amennyiben létezik, illetve `None`-t, ha nincs ilyen.\n",
    "\n",
    "```python\n",
    "def solve_2_sum(a):\n",
    "    pass\n",
    "```"
   ]
  },
  {
   "cell_type": "markdown",
   "id": "453e2cad",
   "metadata": {},
   "source": [
    "#### Adatbeolvasás fájlból\n",
    "\n",
    "A keresztneveket tartalmazó `../slides/data/P0022_names.txt` fájlt olvassuk be és nézzük meg, hogy\n",
    "\n",
    "* Hány olyan lényegében különböző névpár van, hogy a pár második eleme az első névnek a megfordítottja? pl. (\"NORA\", \"ARON\"). Az (\"ARON\", \"NORA\") pár nem különbözik lényegében az előzőtől.\n",
    "* A nevek kezdőbetűit tekintve melyik az 5 leggyakoribb? W-vel vagy C-vel kezdődik több név?"
   ]
  },
  {
   "cell_type": "markdown",
   "id": "7a0c6d0f",
   "metadata": {},
   "source": [
    "#### Helyes zárójelezés\n",
    "\n",
    "Adott egy kifejezés, ami a `(`, `)`, `[` és `]` karakterekből állhat. Állapítsuk meg, hogy a kifejezés helyesen zárójelezett-e vagy sem.\n",
    "\n",
    "pl. `([()])` helyes zárójelezés, `([(]))` nem az, mert a szögletes zárójelpár tartalmaz pár nélküli nyitó zárójelet."
   ]
  },
  {
   "cell_type": "markdown",
   "id": "31fe18cf",
   "metadata": {},
   "source": [
    "#### Készítsünk saját halmaz-implementációt! \n",
    "\n",
    "A halmaz elemeit tároljuk egy belső listában, figyelve arra, hogy a lista később sem tartalmazhat duplikátumokat!\n",
    "* lehessen üres halmazt készíteni\n",
    "* legyen `add` metódusa, amivel hozzá lehet adni új elemet\n",
    "* lehessen értelmes módon kiprintelni a halmazt\n",
    "\n",
    "```python\n",
    "class Set:\n",
    "    def __init__(self):\n",
    "        self._elems = []\n",
    "        pass\n",
    "    \n",
    "    def __repr__(self):\n",
    "        pass\n",
    "    \n",
    "    def add(self, x):\n",
    "        pass\n",
    "```"
   ]
  },
  {
   "cell_type": "markdown",
   "id": "f425ca70",
   "metadata": {},
   "source": [
    "#### Bővítsük ki a halmazunkat további halmazműveletekkel\n",
    "\n",
    "* legyen `pop` metódusa\n",
    "* lehessen több elemmel inicializálni\n",
    "* legyen `union`, `intersection` és `difference` metódusa"
   ]
  },
  {
   "cell_type": "markdown",
   "id": "adb0cc07",
   "metadata": {},
   "source": [
    "#### Implementáljunk szorzást és osztást a `Rational` osztályban\n",
    "\n",
    "```python\n",
    "class Rational:\n",
    "    def __init__(self, n, m):\n",
    "        d = math.gcd(n, m)\n",
    "        \n",
    "        self.n = n // d\n",
    "        self.m = m // d\n",
    "        \n",
    "    def __repr__(self):\n",
    "        return f\"{self.n} / {self.m}\"\n",
    "    \n",
    "    def __neg__(self):\n",
    "        return Rational(-self.n, self.m)\n",
    "    \n",
    "    def __add__(self, other):\n",
    "        return Rational(self.n * other.m + self.m * other.n, self.m * other.m)\n",
    "    \n",
    "    def __sub__(self, other):\n",
    "        return self + (-other)\n",
    "```  \n",
    "Ha $p$ és $q$ egy-egy Rational példányok, akkor $p \\cdot q$ és $p / q$ a helyes eredményt kell hogy adja. Az abszolútérték-függvény működjön a Rational osztály példányain."
   ]
  },
  {
   "cell_type": "markdown",
   "id": "08a69487",
   "metadata": {},
   "source": [
    "#### Fibonacci-számok egy adott intervallumban \n",
    "\n",
    "Írjuk egy függvényt, mely adott $I=[a, b]\\ (a \\leq b)$ intervallum esetén visszaadja azon Fibonacci számokat, melyek az $I$ intervallumba esnek.\n",
    "\n",
    "```python\n",
    "def calc_fibonacci_numbers_in_interval(a, b):\n",
    "    pass\n",
    "```"
   ]
  },
  {
   "cell_type": "markdown",
   "id": "fe6e01ec",
   "metadata": {},
   "source": [
    "#### Egy adott sztringből távolítsuk el az egymás mellett álló ismétlődő karaktereket (második rész).\n",
    "\n",
    "Ez már volt korábban. Most keressünk elegánsabb megoldást, pl. az itertools könyvtár függvényeinek segítségével.\n",
    "\n",
    "Példa: \"kukkkuuuurrrriiiikuuuuuuuu\" -> \"kukuriku\"\n",
    "\n",
    "```python\n",
    "def remove_consecutive_duplicates(string):\n",
    "    pass\n",
    "```"
   ]
  },
  {
   "cell_type": "markdown",
   "id": "a2d93552",
   "metadata": {},
   "source": [
    "#### Polinom-osztály \n",
    "\n",
    "Írjunk egy `Polynomial` osztályt, ahol a polinomot tároljuk el, mint az együtthatóinak listáját.\n",
    "```Python\n",
    "class Polynomial:\n",
    "    def __init__(self, *coefficients):\n",
    "        self.coefficients = coefficients\n",
    "\n",
    "p = Polynomial(1, 0, -3)    # -> x^2 - 3\n",
    "q = Polynomial(2, 0, 3, 1)  # -> 2x^3 + 3x + 1\n",
    "```\n",
    "\n",
    "Implementáljuk két ilyen polinom összeadását (azaz írjuk meg az `__add__` metódust, valamint a `__repr__`-t is, hogy lássuk, mi egy ilyen osztálypéldány tartalma)."
   ]
  },
  {
   "cell_type": "markdown",
   "id": "96c5ce54",
   "metadata": {},
   "source": [
    "#### Numpy tömbök metszete \n",
    "\n",
    "Adott két numpy vektor, `a = np.array([1,2,3,2,3,4,3,4,5,6])` és `b = np.array([7,2,10,2,7,4,9,4,9,8])`. Állítsuk elő azt a vektort, ami a közös elemeket tartalmazza. Keressünk numpy függvényeket erre a célra."
   ]
  },
  {
   "cell_type": "markdown",
   "id": "5c120e7e",
   "metadata": {},
   "source": [
    "#### Véletlen mátrixok \n",
    "\n",
    "Csináljuk egy $3\\times 3$-mas mátrixot, ami $2$ és $4$ közötti véletlen számokat tartalmaz. (Nézzük meg az `np.random` modul függvényeit.)"
   ]
  },
  {
   "cell_type": "markdown",
   "id": "ddb2b7ee",
   "metadata": {},
   "source": [
    "#### Végtelen értékek reprezentálása és keresése mátrixokban\n",
    "\n",
    "Az alábbi mátrix tartalmaz végtelen értékeket is. Töröljük azokat az oszlopokat, amelyekben szerepel végtelen érték. Hogyan kaphatjuk meg azon oszlopok indexeit, amely tartalmaz végtelen értéket?\n",
    "\n",
    "```python\n",
    "A = np.array([\n",
    "    [1,      2,       3, 14], \n",
    "    [2, np.inf,      -4,  0], \n",
    "    [3,      4, -np.inf, -3]\n",
    "])\n",
    "```"
   ]
  },
  {
   "cell_type": "markdown",
   "id": "f48759d8",
   "metadata": {},
   "source": [
    "#### Numpy mátrix sorminimuma és maximuma\n",
    "\n",
    "Adott mátrixra számoljuk ki minden sorra a sorbeli minimum és maximum értékek hányadosát."
   ]
  },
  {
   "cell_type": "markdown",
   "id": "3e1c52b7",
   "metadata": {},
   "source": [
    "#### A `world_population.csv` fájl tartalma alapján válaszoljunk az alábbi kérdésekre\n",
    "\n",
    "* Melyek a Föld legsűrűbben lakott országai?\n",
    "* Melyek a legritkábban lakott országok?\n",
    "* Földrészenként melyik a három legritkábban lakott ország?\n",
    "* Melyik földrész népessége nőtt a legtöbbet 1970 óta?"
   ]
  },
  {
   "cell_type": "markdown",
   "id": "28a5d526",
   "metadata": {},
   "source": [
    "#### A `weatherHistory.csv` fájl tartalma alapján válaszoljunk az alábbi kérdésekre\n",
    "\n",
    "* Keressünk gyanús adatpontokat. Nézzük meg a légnyomás oszlopot. Mi a mérési értékek eloszlása?\n",
    "* Hány napon havazott?\n",
    "* Mikor volt köd? Melyik a legködösebb hónap?"
   ]
  }
 ],
 "metadata": {
  "kernelspec": {
   "display_name": "Python 3 (ipykernel)",
   "language": "python",
   "name": "python3"
  },
  "language_info": {
   "codemirror_mode": {
    "name": "ipython",
    "version": 3
   },
   "file_extension": ".py",
   "mimetype": "text/x-python",
   "name": "python",
   "nbconvert_exporter": "python",
   "pygments_lexer": "ipython3",
   "version": "3.10.12"
  }
 },
 "nbformat": 4,
 "nbformat_minor": 5
}
