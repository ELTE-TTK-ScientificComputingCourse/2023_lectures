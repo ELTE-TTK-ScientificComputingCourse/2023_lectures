{
 "cells": [
  {
   "cell_type": "markdown",
   "id": "8530af5b",
   "metadata": {},
   "source": [
    "# Házi feladatok\n",
    "\n",
    "\n",
    "Az előadásokon szereplő házi feladatok elsődleges szerepe az, hogy a hallgatók maguktól utánanézzenek néhány fogalomnak vagy módszernek, melyek nincsenek kifejtve órán."
   ]
  },
  {
   "cell_type": "markdown",
   "id": "c5895033",
   "metadata": {},
   "source": [
    "####  Mit csinál a `for-else` konstrukció? Mit csinál az alábbi kódrészlet?"
   ]
  },
  {
   "cell_type": "code",
   "execution_count": null,
   "id": "135827e3",
   "metadata": {},
   "outputs": [],
   "source": [
    "limit = 100\n",
    "\n",
    "for n in range(2, limit+1):\n",
    "    for k in range(2, n):\n",
    "        if n % k == 0:\n",
    "            break\n",
    "    else:\n",
    "        print(n)"
   ]
  },
  {
   "cell_type": "markdown",
   "id": "26c921bd",
   "metadata": {},
   "source": [
    "#### Az $x^k$ kiszámításához módosítsuk az alábbi rekurzív függvényt, hogy bármilyen $k\\in\\mathbb{Z}$ kitevőre működjön."
   ]
  },
  {
   "cell_type": "code",
   "execution_count": null,
   "id": "e0e00c2e",
   "metadata": {},
   "outputs": [],
   "source": [
    "def calc_integer_power(x, k):    \n",
    "    if k == 0:\n",
    "        return 1\n",
    "    \n",
    "    return x * calc_integer_power(x, k - 1)"
   ]
  },
  {
   "cell_type": "markdown",
   "id": "d2e4acba",
   "metadata": {},
   "source": [
    "#### Írjuk meg a faktoriális függvényt rekurzió nélkül.\n",
    "\n",
    "```python\n",
    "def factorial(n):    \n",
    "    pass\n",
    "```"
   ]
  },
  {
   "cell_type": "markdown",
   "id": "934dfa5d",
   "metadata": {},
   "source": [
    "#### Két függvény összege\n",
    "\n",
    "Írjunk egy függvényt, amely inputként vár két függvényt és az output az a függvény, amelyik a két input összege. Azaz ha $f$ és $g$ függvények, akkor az output legyen az a $h$ függvény, melyre $h(x) = f(x) + g(x)$.\n",
    "\n",
    "```python\n",
    "def add_two_functions(f, g):\n",
    "    pass\n",
    "```"
   ]
  },
  {
   "cell_type": "markdown",
   "id": "3a8194e6",
   "metadata": {},
   "source": [
    "#### Két függvény kompozíciója\n",
    "\n",
    "Írjunk egy függvényt, amely inputként vár két függvényt és az output az a függvény, amelyik a két input kompozíciója. Azaz ha $f$ és $g$ függvények, akkor az output legyen az a $h$ függvény, melyre $h(x) = f(g(x))$.\n",
    "\n",
    "```python\n",
    "def compose(f, g):\n",
    "    pass\n",
    "```"
   ]
  },
  {
   "cell_type": "markdown",
   "id": "5046dc75",
   "metadata": {},
   "source": [
    "#### Egy adott sztringből távolítsuk el az egymás mellett álló ismétlődő karaktereket. \n",
    "\n",
    "Példa: \"kukkkuuuurrrriiiikuuuuuuuu\" -> \"kukuriku\"\n",
    "\n",
    "```python\n",
    "def remove_consecutive_duplicates(string):\n",
    "    pass\n",
    "```"
   ]
  }
 ],
 "metadata": {
  "kernelspec": {
   "display_name": "Python 3 (ipykernel)",
   "language": "python",
   "name": "python3"
  },
  "language_info": {
   "codemirror_mode": {
    "name": "ipython",
    "version": 3
   },
   "file_extension": ".py",
   "mimetype": "text/x-python",
   "name": "python",
   "nbconvert_exporter": "python",
   "pygments_lexer": "ipython3",
   "version": "3.10.12"
  }
 },
 "nbformat": 4,
 "nbformat_minor": 5
}
